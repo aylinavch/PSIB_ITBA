{
  "cells": [
    {
      "cell_type": "markdown",
      "metadata": {
        "id": "aKfk5hfAceog"
      },
      "source": [
        "# Python y Colab (Notebooks)"
      ]
    },
    {
      "cell_type": "markdown",
      "metadata": {
        "id": "Lw-gYz0eyhzY"
      },
      "source": [
        "## ¿Por qué Python?"
      ]
    },
    {
      "cell_type": "markdown",
      "metadata": {
        "id": "DOTx456byjGw"
      },
      "source": [
        "Python es un lenguaje de programación actualmente muy utilizado por empresas e instituciones de todo el mundo para construir aplicaciones web, analizar datos, automatizar operaciones y crear aplicaciones empresariales fiables y escalables.\n",
        "\n",
        "<img width=\"250\" height=\"230\" src=\"https://media.giphy.com/media/KAq5w47R9rmTuvWOWa/giphy.gif\">\n",
        "\n",
        "Además, posee una serie de características que lo hacen muy particular y son lo que le aportan muchas ventajas en comparación con otros lenguajes:\n",
        "\n",
        "* **Es totalmente gratuito**. Se trata de un lenguaje open source o de código abierto, por lo que no hay que pagar ninguna licencia para utilizarlo.\n",
        "\n",
        "* Lenguaje altamente legible, es decir, es un **lenguaje de alto nivel**.\n",
        "\n",
        "* Está respaldado por una **enorme comunidad**. Su carácter gratuito hace que continuamente se estén desarrollando nuevas librerías y aplicaciones. Es difícil pensar en algo que no haya hecho alguien. Esto es un factor multiplicativo para los programadores, puesto que cualquier duda estará resuelta en los foros.\n",
        "\n",
        "* Es un **lenguaje multiparadigma**. Esto significa que combina propiedades de diferentes paradigmas de programación, lo que permite que sea muy flexible y fácil de aprender de manera independiente de los conocimientos del interesado.\n",
        "\n",
        "* **Sus aplicaciones no se limitan a un área en concreto**. El hecho de que sea multiparadigma permite utilizarlo en campos aparentemente tan dispares como el diseño de aplicaciones web o la inteligencia artificial, entre muchos otros.\n",
        "\n",
        "* Python es **apto para todas las plataformas**. Podemos ejecutarlo en diferentes sistemas operativos como macOS, Windows o Linux simplemente usando el intérprete correspondiente"
      ]
    },
    {
      "cell_type": "markdown",
      "metadata": {
        "id": "-liDf0ohvlM8"
      },
      "source": [
        "## Notebooks\n",
        "\n"
      ]
    },
    {
      "cell_type": "markdown",
      "metadata": {
        "id": "asyBnlr3vwYp"
      },
      "source": [
        "Una **interfaz notebook** es un entorno virtual de un cuaderno utilizado para la programación literaria. Combina dos tipos de funcionalidades: *procesamiento de textos y la  ejecución de un lenguaje de programación.*\n",
        "\n",
        "Hoy en día,  millones de usuarios utilizan distintos tipos de interfaces notebooks en muchos dominios, desde la ciencia de datos y el aprendizaje automático hasta la música y la educación.\n",
        "\n",
        "Se suelen utilizar para documentar los procedimientos, pasos, datos, cálculos y hallazgos en distintos tipos de proyectos. Su mayor utilidad se centra en que permiten la posibilidad de **combinar texto con código**. También permite mostrar datos de manera visual y sencilla, como también visualizar parte del código utilizado para realizar los análisis de los datos."
      ]
    },
    {
      "cell_type": "markdown",
      "metadata": {
        "id": "Biu5p-3GxjTU"
      },
      "source": [
        "Hay decenas de interfaces notebooks, pero el que estamos utilizando actualmente se llama **Colab** que en realidad es un **Jupyter notebook** alojado en Colab de Google.\n",
        "\n",
        "Los notebooks de Colab te permiten combinar código ejecutable y texto enriquecido en un mismo documento, además de imágenes, HTML, LaTeX y mucho más. Además, los notebooks que creas en Colab se almacenan en tu cuenta de Google Drive y los podes compartir con otras personas, quienes pueden comentarlos o incluso editarlos.\n",
        "\n",
        "> <a href=\"/notebooks/basic_features_overview.ipynb\">Overview of Colaboratory Features</a>.\n",
        "\n",
        "> [Te damos la bienvenida a Colaboratory](https://colab.research.google.com/notebooks/intro.ipynb?hl=es-419#scrollTo=-Rh3-Vt9Nev9)"
      ]
    },
    {
      "cell_type": "markdown",
      "metadata": {
        "id": "HWG2JfFuvg7F"
      },
      "source": [
        "En este momento estas leyendo un documento que no es una página web estática, sino que es un entorno interactivo denominado cuaderno de **Colab** que te permite escribir y ejecutar código. Por ejemplo, podes escribir texto (como estamos haciendo ahora) o podes ejecutar una celda de código con una breve secuencia de comandos de Python que calcula un valor, lo almacena en una variable e imprime el resultado:"
      ]
    },
    {
      "cell_type": "code",
      "execution_count": null,
      "metadata": {
        "colab": {
          "base_uri": "https://localhost:8080/"
        },
        "id": "c6x8x3rvvRD3",
        "outputId": "1554037e-7bd0-4d71-b288-f13776021356"
      },
      "outputs": [
        {
          "data": {
            "text/plain": [
              "86400"
            ]
          },
          "execution_count": 1,
          "metadata": {},
          "output_type": "execute_result"
        }
      ],
      "source": [
        "seconds_in_a_day = 24 * 60 * 60\n",
        "seconds_in_a_day"
      ]
    },
    {
      "cell_type": "markdown",
      "metadata": {
        "id": "_6GF0KyRwHGq"
      },
      "source": [
        "Si queres ejecutar el código de la celda anterior, sólo tenes que hacer click para seleccionarlo y pulsa el botón de reproducir situado a la izquierda del código o usa la combinación de teclas \"Comand/Ctrl + Enter\".\n",
        "\n",
        "Para editar el código, solo tenes que hacer click en la celda.\n",
        "\n",
        "Es importante destacar que las variables que definiste en una celda se pueden usar después en otras celdas, por ejemplo:"
      ]
    },
    {
      "cell_type": "code",
      "execution_count": null,
      "metadata": {
        "colab": {
          "base_uri": "https://localhost:8080/"
        },
        "id": "5_Ws7yE_wbgl",
        "outputId": "78e37287-53c1-41ad-93c8-1af7d8f008d4"
      },
      "outputs": [
        {
          "data": {
            "text/plain": [
              "604800"
            ]
          },
          "execution_count": 2,
          "metadata": {},
          "output_type": "execute_result"
        }
      ],
      "source": [
        "seconds_in_a_week = 7 * seconds_in_a_day\n",
        "seconds_in_a_week"
      ]
    },
    {
      "cell_type": "markdown",
      "metadata": {
        "id": "FBVjt9JpJd1j"
      },
      "source": [
        "Antes de continuar, les recomendamos guardar esta notebook para editar y resolver los ejercicios o tomar nota. Para eso, lo que pueden hacer es guardar una copia del documento en su google Drive de la siguiente manera:\n",
        "\n",
        "![Guardar copia en Drive.png](data:image/png;base64,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)\n",
        "\n",
        "\n"
      ]
    },
    {
      "cell_type": "markdown",
      "metadata": {
        "id": "yEHuGXhF5ZW7"
      },
      "source": [
        "## Markdown\n"
      ]
    },
    {
      "cell_type": "markdown",
      "metadata": {
        "id": "CAIy5hnO95JH"
      },
      "source": [
        "Como se mencionó anteriormente, Colab tiene dos tipos de celdas: texto y código. Las celdas de código, como se mencionó, utiliza el lenguaje de programación Python, pero las celdas de texto se formatean utilizando un lenguaje de marcado simple llamado **Markdown**.\n",
        "\n",
        "Para ver la fuente de Markdown, basta con hacer doble clic en una celda de texto, que muestra tanto la fuente de Markdown como la versión renderizada. Sobre la fuente de Markdown hay una barra de herramientas para ayudar a editar el texto que desees agregar."
      ]
    },
    {
      "cell_type": "markdown",
      "metadata": {
        "id": "lq5gAONN6CUe"
      },
      "source": [
        "Cómo escribirlo en Markdown | Cómo se ve renderizado\n",
        "--- | ---\n",
        "`**bold**` | **bold**\n",
        "`*itálica*` o `_itálica_` | *itálica*\n",
        "`` `monoespaciado` `` | `monoespaciado`\n",
        "`~~tachado~~` | ~~tachado~~\n",
        "`[Link](https://www.google.com)` | [Link](https://www.google.com)\n",
        "`![Imagen](data:image/png;base64,iVBORw0KGgoAAAANSUhEUg ...)` | ![Imagen](data:image/png;base64,iVBORw0KGgoAAAANSUhEUgAAANEAAADyCAMAAADk3NBFAAABHVBMVEUAMKUDP4f6uQAAPYj9uwAAO4n/vgD/wAAAPIgANIwAOIoANov/wgAANYsAMI3ZpiwAOooALKYAJqgAKqfkrR8ALI8AL409UnrDmT8lSYBqZ25za20AJ6j/xgAAI6kAGaxFVXlKWHdhY3AAH6qbglc3T32oiVDMnjjQoTTWpC+8lUOWf1q3kkdbYHIvTH7gqiUiR4HssRh6cGaOe11RW3WihlSHd2CAcmYRQoTztQytjE2SfVtybGi3kkbHmzvOoljVpk+jhnV4bY8AJ5EdO6ZGUJ+1kmmRfYTmsD/In2FUXKQpPJ7grUhsZ5XttTaFdouagXxjYZioi3azkm9aW5k4SaPAmGKMeIN0apB/cYpBUKQAIZPaqUzDm2OXgoL0XKJXAAAgAElEQVR4nO1deX8at9M3e2hPlrWNbYyNDZjbYFgMGDCmuZMmjdO0afJrn7bv/2U80u5KGmkX4ivX59P5A1t7SPrqGM2MRrMbG//Rf/Qf/Uf/0Vra/MHy/SydvD78Ivkevj75Ivl+jjYPfy69P/oCGR+9L/18+A266eh5oCnuF4B09N5VtPzzL9FWa+n4paspyheARAApiua+PH7gjNfT9uZPSAnJ+PNhx/zJn0aUMfppc/tBc15LR69nmhKT8fghG/P4N5dmrAWvv9rIO/6VFRs25vZDNeb2Nu36EJL769cZeYcbf4Niw8Z8oGkcMhtI6NHGVxh5J+9nYrGkMR8f35/bbp48dhM5zz586aVpEwx02Jivnt+35JPnr1BKzu5vD9BYa+jw2S9pxZJuerGxdY+MtzZeJDoobqxfnn0ZySSkk7daerEEk/Lv0V0xbR39uyZj7e2XGnmbJ78LI05D0jwOXt4J09bRy0DiNWLO7u9HX2Tkbb0RB7o2KzelIYhmjzdOblf45snG45mcTasich/06s19hvQKOn4iNpyxtHXv1JAGC3L/+XC8dVNQm1vHH/4x5JlpNDzfX4qth5489NK0efTREIuYeJlMJluR2xffuf7t+cnR59eR7aOT579dowTDVqoWztmbSCPvxcOOvKM/roWao6DuZAjpdkfuJnzXuH7xZOPkaKVKsHl4dLLx5MV18lXFaGb8MGenLk4udP3HAwpFx+9E1mp0HDMTk1dNdFPYU+6rF59eb5+cHG0dbm9vRrS9fbh1dHKy/frTi1duondItZWFp8YZm05HHBbuu4caeVi1k0bc0Mtw0p1xWuUw10XIvX708fGnJx8+vH7z5s3rDx+efHr88dG1i1Aqs9aMuW6DnL2hNHV/vvEMXUtHf4nSFsrvw2LJANlfpoyfGBYBhskwjPBvOpYIT6ueFTO29/Mig7j+6wFG3vFLsbZu11IzEqlWubUK0w1JM9ojLyXjrrgEGp/uO/JE+Z60eRGMOF4D06s074EJ98/IM1PyzXgHYqfeV3c5ei2NuP4UjDizDoo2rbOuLEXcEA7SunWL48modTjyBn2xTe+lCGLVTpyaDTgwzFHXEYaI40/6xi1BacjoT3RHGG/2+EAH2XoNiefdWRE83Hgktk609jFy5grkeWFdrLNx/uagMJz8uO75Ui5eUBCayqoq4kh5tHEncfzkgyRctTOgaDubfTozKp4jNm9Gtb2zyxbhaZ9Fg1Drsu7Z0vtO1joztF0rC0D505wkUt5BESQapZCJURNG3LzZbGlafrls7skcSrUtp1drKgZh1SnACD83lFatZ1t24t2zZrOZ17Rcq9WBl72xxHFvrTXLqp02G4lrhd4kU0xDykgeMxFiO2vtF0877QCJZKBZu1M72Leytpn6IhZ+SMZuKyOgtUbSiLmlInjyVhq5LVWXivbOMWStZcrXQcPqtmN5zrTcOxhOCA0PeuWp41mOrSdWHg7JKeCiUU1enHy1Jc3q9zcfeUnV7jK5+Jl7ZEzVHPl6Ephq6r5v27bv66a6GgolG0vdGuolWkr1LqWR9/tNdbEU1S6l3nbNzXfcvJW8c0+y2m4h587t5B2nLCuCz26kCB4/EZuCqHZpBQdXjrdw9z/f6Lcl98LzxkpaU+n+UpKZb6AIYtVOGnETedGJaLrAZdpn1dT5fQ9SR3XcPdlqalOpSUXwcyMvRbUj3Z+We9hx6kMDIvOO/KblS27cVhE8fofSVDu1YiayXp28D5p1SbNC0glFEP25euRtbq1Q7az+FGauiouqlFxfrfU312WsTvvR3EoqgqvU/6Pn+XTVTp2WJnAd9fLCauv3hZkmSOSYzoRqnYkQ6kLnW31hubYETmpPSnG73lQRjHftOPRuKOGblrVzjtpPLYvyU7NcqgLupy9KsNLqniBm6osa5MN2bQEZp1OA3aCelaDQrVdLZQrYtqynbXS+Y8V16krieOqOYEK1CxvI7OX7/Zmi9XP9GmlAPZvdaaDOTjYblu3j5BLVcJKVXdNgy2YLfZj0+gXYv5bG8Jo4pxpa4pzCfiLldFAjLsev4fI1Zdbv53thQUlFMDnkPoospD+Ii/IrCgqb4ZLUTB9iGXKmKK1W+wIX5V/ipKLMcLJISiISed6oetlIIsfCnae5A8uJes1xrIGrebFYjaVsr2rkn2azpCSz2I4zzl1iSPpFO844F3aqdRkOIKRU4mrJiiB6IQ+8rY8QM1TtdDOHb1G5wbkI11/NPQ/bOlsLS9LQgtzW561QIm8um2XyfqfVzGlav7lcDnByHwvqfSxWN0OxWi3jp7CUjd+Ykzo7CxRlXIsyPo8yNi7icssYrpbjYqTqzeHI0z7K4sMRQCSpdl4L680anRx2PQAAM9kRKSkf96jdiSRyrUeGjpppR8kgZABMrG6HLM7vaVGyE787IIyJyfghBCVaDsM0Fva0FuRBgiKYgugndhfloGqHS3fReeCyObuLG1YLdhleYsFiJXlDUsl2tPzidqyRZCG2V0ZitUbFaj/TJklm/MMthycHq/NugJN5Wo5+4Abnmiuwe6gIaj/Lo44j0iRB3p/kB1m7sIw7RT1ztbHmUh6lV93ZGBm0JHVAJPIG7VC9R+ToC9rO9oUgVjsNYs0b0FczBhrPXMpG1b2wHMpGnWXBzg7ywipCFEFW659WItLyOxmBzGoW52oVY2Zm1/IDa9pv0BnaaalWfXYRl2Sfu8GVG9CGdrpuu+m26Bi2Wm6z7TJ7ixe4V4F7TlnQxaxuqa1OfNdu9AfWIE95oUlYr5qVxcgduoSuRSRLvSb4JQuMpWZUiy4rYdK0D+LbVr/jeEW3HLespY293XOXdorunu96jLurZbfoOR3K3c0DrNXyjE2xHKkWlKw7IZJIB7/sH1ZSKJEP4g5V670smeOjCKA62sMdkO3FQoVZJPzEW4gtJ2W8WkW+GyJTkhXTsIlJUSKP/mGKayxWs90HdUWdJU1XTt4DkV2bwqzssWgobNhiUtR00/DeNDmGOav7lwLvLQP2YFGbbwqv+4feCjgiT+Qt3gyKXRkL9WCnOa4gKttCrTKOmLTXJf2LAK479qUgSNnjFk9yRB9XygwUkarr9pnb2tV1M046FbfggWTP7cLkwh1bcTKkEtRA1H0XNoZZNmAl9Spfhkxd3226dVuP7EU6TvbdKU/6O3mk2n5sTfI4InmF3XpBOfssLEvdWxwcXGHp5qB4QJLlg4MDvD4WD4pFlaiA+O8SJ4tVwk/V0cFBsaUFONkjJammnp1gOcmMZgpOWqfu0ImTuM5Ww62CpHfljpyozmqxeLDQtM5iMQwZ5kFxgRex7uJgQUbAFP/Fevkc343Yizej61FCrjtiiGKbhd4pESEFGUY01JZxEoVLwrQdJV1tRBAN+mQTUkPujOiZ6qharea0fq/XI1xO7eFkXmvjJLlrkmSgLXGS1FnFKSzOFDASclevIpcYAlGpQ4rVF4YRJbuhDH7hoigZD1OPyQy/J0bdbxIizFZDUZHur3gXYTI2fqveZSiRt/SIuXljkkSxEl8PKMCwzuVZnAxIw5ojJU7m90OAFEIrZEORbKRoi2gcYhk7rFik2xBljySZ9GfRWqPH8qg7fExFJCaTWqTSiBlzQ4lD26GTY3dO5MqnNLmDx6DWfxrPGqsbAowFOizPhcl4d1D3m6FmEMv3egQBncdTSd0h5YzpxDJNUosJnXb+PkkuaB0djkg2Gm/9ShEhyt6sNlIQYou2l0czxIUyL8B3DcbeLI0kBwxgCwPMxQAzmae4obUmFa/UpwGuc2eXJUk7NigEPO5wQUzT94ckydibfY77FzE12We1/lXuo+139J5BC8qUmnZVo3KWul8qWAtEbZ1quXTlXbhU7MIadGPn1J0wmRSR1qDo1SlJMqOieobnBpqxXqiQZJ7LgqhodUq0cZylMtKbJZqV1Z6VM23KKbF0SxH9KW9mckRUGNYvzj3VnzapIHk+9FR7QEVwv3ZgZZyzAhVYGz2cLHcowINSY7dRov3rT0o1r1uiy5eNoVuFEhX+7LF74XVK1OBiL/HM9YYTKjguTV/1zodxcrq0daykxBKrus9q/U4eddtv2T06ktRQa2NLn+nTa1FSF5LhQsQ0THuOAVrVLsV7VclmrAMmrxfqjupd0P51lmcEAhMMwk0lnS1f4VM+W9scmFT3WK3fy320+Z7dq8gC7h0oBMj3VOSkKlQy/M+/S6nmiNX6g2yz2/yD3YOmq/XW07vbGuVn7/iqXmS1/iOB6A27t+CynLo3EPIaCRJlZLZlNC3DpGRZlpL6SLRLimZKqZiR2H2gVMwIKT97tiHTVokimnCp0R4LoqqVH4CS1UwgCGdDYc/HKQj6pjcTxOlyWxA+a4J0bfUFgOZMcEM6uOIyvj2hiErJnaQTKiEhYAT1AiDnYmGndA5KxhwMlpxdCiVbGvR2MCuCudRuuFD1svo5WMzUhXZYf8hNq5icjgLVHYpoltzCPLmmMkOs56iO5dUNZHtWmCbW4kuUo9Zi37KetlAtNttm8LMeXm93rWwobmat3SpSduJndfzqHC3xq2F7EItvgIb4rhq/OjCMTFyMip+doDwspoka+Fk9etba0VAvLoa4VFDR+zoF0S/0ZrSmqvu5fH6GlYt+fkkA9YJ8nuiD+YBYi/1TnMQv5PP5cHAVgmCmKbN8PodlNbXej17N5690Im2yV8kY9udBQHQA/EtmxLSFX8VtHMyIXKeO8GWi0gSzBnl2EhWDk6SL1U6Qx6/OgqAfrV5Oh1b6lyQirsQ2IylQxUszSbqFiLuWQ89AzYhELCu2rSqjsC2zkY8VyoVKkTnIR5blefis3dOA4TWDNYtQkMvvR0tatBNpdELLsh/teGnGefhqNra00mLm0au5aTQOs82VSjlQJzSqMaq7RDZlu5a6H0qUe/HscOqC2dYjXEeb78Y2Eo80HooFZixPEwE6oH552QqRRZfUq233FIFizKiW1GZr7wewGKsIi8ETkFY6oR5BdWIGpUINFZlsSqzFiM1ZOzTb0mfxyoDTl8ymOyfPshm9m8dJxjiImRJpHbpJEdklL5iAXCCvMgXYI0ZnJrfiJRUnmUXDYuwsoUxgdeITUydoUVbOnS9dyizVjKtNApcZ6g7c/ISbbZ0rt9NwmUHAmxmnbZdaD9S6q0xmLl1X7HM3hzVRYJecz90mLdVBaJJjMq/ec4MLhW3JYybZrBncwskW0U9JD5Tt/7G7cfvgpuxZ3oQyS2ItdqwrKqo6yyvL4WZbSxl6Vo9KuWpFKWe9Gl2v7HE74+hNul5lc2PP2Q9o56uo6HlVzaQtFew73jgXA7SvCraTaVF2bgXnXrasxGu5OmWi9/+SfoSbrxmieLColSmurr0XbzSavdBaTAVosxeabeOkekY2EfxphdoaTXzdGcXGMbMa2keZ6WjkkMWB2iX3BoSrDfboq4RDOKMMLMbqxX00JfPL1ONizAqr8+uUrdhnDC9rvMjukaGZg99EMn6W2RrBb/JV8e5NXmVJ4S4X61KEILwgMUQTKLB8z8SFIJTm9XRyTTlh44dB1FgjMmBEj+ht0afyO6Zwhy2s8qM0RGzfUoNiIyMsq0mU4iqoys8QEp7Q056wuGuBRP7aMq3cShsxoS1m35ql+DaZmXZOpP4kAVzd6+cS1IcaiL5IeYI8VEv1p7Jr4uN9cY/PW7fA4gXpTzbNkhsgZobsiorkXiT2zspG4inNhYh84g6YRsZl2sBw5uLjSNwAUFmNE5YgQmBBSjjTEkBKggwZkllOOeaCBEQX6ScbFcVNdjnQFmheNVFvXLsc4QWJOtahA6mT0gFhSEPRHfc+iBKZfR6RvqCZuWl4oBZ7Ks7TVYAStbgXIsUoJnjsekRrNdgQEdP5roSs1ekqQLgWC1jE/RApqCdzvPWI1up769g3U0LSyBVOg9wPUXICr0f0GeYN2bd4HsKCbncyOMFeeW9ERWkCr0fENo+SZvyIkvpEEhEKCAFcIqJK8tA5Konc2wWQ4lNjaxB1wx0wdt+F3BtrO/R6ii5BaPOvVLMqRISKO3jh9mw+sUSbsvp/LakT8RtCHVWb1UOJdnL2QWYyoszgbDDkz1f3oIexXmX1/WuFW+cJY9/nwnBliLRCvPFW5KWIiOqCbyJ5JScJA3w7ASOyVVX19/iFBCJVtQ/47T0fjh37kukSq3xvT16lMjuIKD4Fe7ACkTzuSWmS26qAKNzuWIdILEtkHJzVvVp1goIzO8GBIAXRYhUiGQ8x3IgsOYmofkdE3BC0gtVtbBzyncu7IeKGdUiidAMRHWR937cWd+0jvmO56uDONt9Dgu+mISoZMZXgxoGXY4MOMLCF6BPHEWmNIaZz3gq3QgSkusRuGCMu2V2AWiQRER8TPKdleRbwBa3Bqqm1Bd4AECnR4V/em7dCxJc2N83IENFxQIuaA9aQgiidAF8wplf8f3FzaD9tZMZVLsuNtAaRzUoLVh8z4LZvKAfdHBHol90R6C/RE2sloqRctw4Rl4FSbN6UuByE7oAI8AU8dzwgaUDesAbRKE01X4koy+qaqsDGrIFvmAMWdlNEVg5isM8BT4M7uysRaUltYg0iYH18u+ZcNmcNwGZ3Q0SQL4yxsORxvidsFK7uI6N4i1HHW2wNY8CsgW30dXjdb4jIhvKCeBDWAOLYOs7gpjgerELELVvX606+Hf3M/AY5y70hImtlRRVo8Pg897Ztx47IXIPIW+3PCenwXyb8cYUiBZHJLWj0sXR5IaaZlYYI1arFYhW8FyLSuw1KZEN0BSJ1wIzaL9cd9QX2IL7SJxGZ1dCM1sbUp6UAeSGlkzhvEOQ6R9f1LBDkCSLbZRYvot+tQMQbcIUdiNIWRQ727lPlOlZqhbp2y3oEJMAbPit72yyj0IKzApHTpZUy1odrOPmbOUl7axGxUmJEdlKPEDqJKbIPhIgtd9rf6w9j891YPpFupB9lQYfwc/EcEeMND4OI7+5pv60/twzEbzaRbqLDAr6gtRcXlDgkxhsSiMyzlYjOcQP6xTREPhsla9fXEBJdY/lEgnaG4S6xM0wlO4PpPW3zKz3Pj+n/OLdA1Z3QWOl7UwAgzG0p2hk4Ii1P9jq45QIg4tPI/VxQA26GZCuSYAuKGQK/gBGZVQStXsy1le3Nh/lpZLOYOJFwWSLf7/dzwLwpIcJ1aDVh4RwRX41WGB9TJxJd6AV7nUwEETfKxIjo/rlwVF8j7lr2KTydK7VOApEke3BE6tlNp5EwkahoZ61baYhN9XaIVueluASRkxZoMrrNEIEN2NX6K6VDhp76TKgrDfnElG9nHgwRusqGk37FymbwwzPMH0hBn4/QwLZjuSu7OU0EHKWtFu4gPRAidBV5gGeHqb1kjLmoyRzX0zdgpT7iBiFmWdUHCXt3BCjaxXoYRIi5tFsXKZAgIGBNXWkG4rT5nA07bmnTz9LC5LjnVubBEHFA+MVJAhIEBAwaxvMbhDo5YeYToFH45WRII+OU+qk9ACIIKAWSAIjzbiW4STwafnrZAHKUPZK3hBErRC8KG8oGX4+E54k1xq6l7yyLgPCr58JzSNhKV/fYMFppTYW0/YQNUrhbY1oy2avuMc1BdIGIvOlX+DPIqqT0nHhGju1WrtpmkWiTCUL9tB35b09809G4WcAgzr+NLxA75/6k7rNBdwPeTejwJevUS8k4kwD4VRBLhXDusl4hB6PuDR920nbWIJNZf0EdSMWb8hNTKZ2R30hkIV8Ag26dXUsYdq9WDDtnKVnarZY80yRrkVoW/V6w8C25f9jzM7HC2abkqeGIF8Cg+6zczYYdFxtEXw3fFatjlktidfwLJEK0G3mxm61WR8TszcShrU5LwsFhcvxMGHeA091AYIiH3R9s2PH6mLbjLYzljm3H66duO7sNo+bZNCyXb9s7Lbdq2TTOnm07O4G779ALKr6gI8XDFzL0glVxczxPUsi50d0FeTq7V8bEs3m0O25QdxMndFbS8avEImv2uo0GHsCNRuM8OhI/nDcagRaMx41oRfUv8T2s1+ELsU/tuNHoIq05Hs/DvVh1gN9YalpnPB6Hs0kt4wttDTXG49MwC7OIL+S1Gc4oOvSmT/CFmZZvNOY0PgRYXl/dPMLl1mMm27KdEvvUjaOUxCYVv1MiT6FSx4+HSy6KauLGQ1WtB0Z4gYpFehzZxFCoAWkS50lPAdmNUnShSX1rl1GeJSZjMk9ORbvxoIPDDlhDHRKjRdFq1MM/4w3DJxbM1T6MaqIEFaaFWGQ3W2OBejJ+hiiPWtNn5/3CMDDanMUhsaphITwemzchec54KBmu6rtvbhEKkg87EOzP6xABHDhc7PSxyJXjF1RPw2p0g/MGs44UEOYEIzggp1nLnL1kxzhPBAJc7pLwLQEsZIbzLDCEXCrWfrlNWFVu/9Z4DCZLMVrI6AF7r4uaCBjI9QNDaxvAJ9SuGbO+ATh8tmDkAwT2/LzAaCsG2PVVkdFEIC6COTJQy+CnNbIF1tb/3iq0JdtIUhDdQDar7sXO3oxbj+2aMtqpIu466hSCs51JiW+mWkFL9RolsLnmdi0dnCVT66XznUG/xVrNH6LiTkXhi5g9n5V3FnzVYI6c67eNksRlO2ZA0SdndsYEkSP8U1PP+FN+BM8fW2bG2btgvTi49Mi5hCJz3B8dWCROIFvE9GHZIfOPWxbP8aTT9RrPs4YZub1PT9vxfbCbynSUuBsuX5Ki86zwhF1YSxgIN7ygS0+YUVAKfg949yTzVNl7ME96gS9G6c62a+iQ9a5xlxO/SZE2mcsdpFyzwuxEn9mSSBLXZPnRp5U1SdY/4ZhgBfIeqxya8CY5ZzusVjfSXiFtfuAGddG5JFmT5BUvSPhNl2R/Ei+QfYfVeiJn8Yqa4SNn/T5YGh1fsxEripJWIkRS4opZKcGYteTgaQN1ngJ9PRGpMMSYl3VzKWeuGa3fTk4nsCQJsW5IbcUpgesGr+hZcvq1u2NlqUi7yPf7OJ9+Lk/ZIHmGRCq0stDToS5jJDnDK97sjotRTHzYsdWAxDIktc3S2sZRFLs0imJ4MqKdw5JKu52jK5VTjI6AoqEjPdPKsTAMOJ8xuuL5gJxZWXxzzLgDno2Tf9gspJ6Z+iKOmdhsx7XVF1Gww2azRetGgwUaEzZP7Gl4TPeMjd7EMzifpphPsiywea39c5dY+YA3GPQYKIuZeMlORiaukCOspP57YFJEp0eBSS7xTErOQ+mKWeYVuj1fIMTFVa1AJ6hTJxZXGEw6eSVZ//j0KFySpEiFJMRxGI2xwvOxo5zZFYuJdLfRjCAdstAnYKs7UZP4CpCWcf21S8UFB/btcS7jmC3gsUoiFZ4Kz2R2++tz5j4ZKUFNbkhbTBVhHoS4JgjETIzrhq+AJdUe96fZaQ5I2GYxPD0KAjbYtf7AyuQgxn2cj4BRKotvvSqzO3/ei8d5QvHqbdfy+9YgDww8YRRF4Upc/wMuzomnR8kl8wA8w3Oe9ucw54CUFbcMWF0/v1O5koBO0aC+GVlSkyFfJeIoikO4ePJfPxFL3a6FFrNEEMQ454UuX4lzdhp31SMgnfAgq+yQNPhNXEn4zepFTT6f5+XPZZDw5RU5Z1SVV+Xj3b/9tvkX76RxwhEtUX+7Jt73/d0CC+MWVkv37X23vevrwrtSeL7UvJ0x76JVpyRu1EmPEp3EyDxNfp1kCC6Zw+FwoWjLxWJBT5vv4UsdDV0sFkNY+16iI/2JZBlWdV6Rn+7zeb7N18aqTtKLgrgXhSRs7vIog2ZFicO4LZkP3pwFwWNBRXXd67ojWxeCaFpt8Zgo7KI7rq6Ujn/hbQOUFdU0rYJbt9n3I9S9YrXa1VCxWC2yTrLDPXrtArhTVsOceJhgtVotVvEK3uv1WHAs0/QzbtszAUY1w6vx9/2+6bT9nncSiMXZG41GitatVCp1WmZBDEkYXhMj0YWQwph4/Os1Zk+LOzJHo0LUMbqGhqq4DN5Fc95Fn3fJuHEn8ZNj+sKl9WCbKXEMwv6UDxe9R0LPCaZ8q02C4IGTFDQe3ykzQrK2cdnIU7l31O2sdJ/pJO2KqV9xLEPh6ypWGIAFfmvK7mrV3asSdCTOlArOSFmCKanukKwbALYXOrFpPBB2xmLK+P27CMqr8HCUupscUG2kIeEsh13A88VagDhQ+sWFh1l4AXqijxCMxxfmRLx+EAhODjzJ791FYifxgOFkQEX7+aD5W/oCCbtDMBJdHL84iuoEnnHmxtBZSvGuSNscsIbwWg/ZRcJM4iZiu2tMMm24VaVfXHqqPW3ZvPqQ/KG8esVP2cuBrXoXMJSY4/anRR7rUe89aBcRzY9/cJsNDru9j+tRC+cuFUB5SEJ/kVzzUcJ2pUdPhR3Jggaq5HqDtE07aXVU3PutRZSOueDAj1OEVQgTg54sTah7gSQEqH7RvZBFHSsnG4Pwm3s0X4wpbrwJZ3Q/PcyXLcFukqIkvi7lTzqyxOeMS2cQ5TQzNZeoZasm3ChXM25XftMeJ0Q8VeWF32Kbcj1BEbybMNa1pKOHvm4FqGbZrGomCcwbBrl1+WjUdecczTzbEbrJy+dlEc/qPojQLdEz7pVoQEWahKIzEepZDt+wqJVQWH1DYYERo609/g0HMrpm4fFqhEpzHpTTydYN40z0EQLmklVRGO5CR/wMvei0sXQ1Ui/N4MFMnOgbyagJAmOrO20S43cXLLVRYF9N49uRZBs3zMxtg8EJ2AJ6/ICfvD3ifs5CfCQvmrUIfo9U90lVr3YEWTr8vLUwOneI158Glibyzb1wFEDPMwecLQ0eENDG4ROesQYDA2RJQFMWJDmq2RmCYeDCoTMq5eot0QZsNUlQN2EPIIyBx4LehXlxgU5BTx70S+xQq2iC+vsLcjxCUJ3sy1JhNHOF6dateaZ3eSWE9DBmvW5JjPJxSTITxkCTF9ZE+f0AAAeSSURBVPsgiyunzb8AcwCRQJyCWxsiYfnJ5oaeby8jwTleJcPogvZ+lIgdPJq67x30hW8H5YzzSxf0rg0cpY376OJpdPI7cDDlG0r2bGQ5+4EweMLqZ0Op1qbOGuDXP43Ox4e+3fvgPXUwqzvZ8oxfyPAi0e8PxrkpHXLmoC1ZnwxIi6t25CXDKkJ/1X03efDPU8Kj6BBk/F6dxCY2VSa0gjMidzc6rkH0v/RxxypmSg6TWLvOnroHDvzyI75mV9y5lfga5ADAY0cJ4Jh7+6BsIaJj/j0hRUnbOhaNjWqlXCnntSb+5Qc46liP72izcnlP3Kj1L+WgS4TP8fIeSqCT6Bng4C1ZWMnYDVE8DS0IUfh/jmiQjz+B4IrSuZVLCIdQK1KMjQdmCxFtfQKLw0Soge04TwN3z4Jf9NXVyILQAauv6oW2Xg1+gFp1nGzG0HYdR+hjuLaidw8/i0I6/pu3GoJf0lPnV92OpuW63Q7c3H6KJRitIMai2Q0FTyBQqPtX3W5L05bd+RxIP2YdjIh7GrRW0yYcdwG0fgz68ffDqkAVxQs+jAsbj6Xwo75Q3NUrSuR1F8BGcuDRsWdfZMwR2noHRkIHfordI358Wm4KVW9/UmrYhRI9MBv91ktN81QIZIQVCyIZaF1oRvI6X2HMEQLqrGIMQS+RA5NaeDaSk13oWap3Ee3/xF40dm3iqdlyS3wwDONbgVakITjM92X4HCPOwIWpZNeMoGXIASTDT61E/zIvGvJH+lCU1TTagQECkcBJpChfFM/G4VuuoWsB91208kt99zL+QJCacHQnfh0pUVkG8b5YqebB0OoqiIKluF9ibYV08gJwhybbB55eeCpW9kJPOvWsK4oUUQz2guhFQ7prHMlDPfJdGW/IpJ/dJuAKLx5cnktAugbF1Vi7Rp/YiebKqRgtTl8EkRdNP38hWRUiMSN6jd2yaqDRUkO/PizxUxVkSCTieBCv9b5b4W7smJyqEIM9HllOdt+d7Th2IociLOA2/sJ3pa0n4HQnqku+SeP5fI60dqMxh/4AkRfNAAgKZ3hBbWnoqtEYi4B0yBWMJ1+QcXM6hlNpJsqsbK0VDY4JL5SMX0V0XZVc6GZwEn1Zxs3o6BWQiqVzZKoXWkTyZxBQihcN+cxmtK6uOopDnGUe0layjjafwVVpKYo5xNihaTXBvzGMwa62RHXDIZ8eR/uiidlrwpXoy0k/Mh1+AJMXzQVI/rmhtA3RdzGOwV4Uam+1jdzMEEwnGW8OALkfvvBKBOnoE+AOxqkQ7a7fnu6e0o09NRKnoYcJNY6ppfFupiVAt05htp++1pgLCXIHKfLtZbjWLqLq+4kIQ/Y8Mr+a1V6WfDIOyBfZC8hFvxZXYJCAriTG3wVe6+QTDvJy4ynxLmb0CNwIKwJA2qOvDAizByA7pMdpI2fGCu4BWGzJmbCR2+ZnwoTO64Fu164fYHfytoiewZgfKBmpzT8fj8dYZ6rVxvG3FdRKYzxua9q4VjtPOhWNIKDZ12NznLafw9PsqJKARM+Mlfg5s3N6JuxMtiXZFci23b++fhdh2novQConduei7zrPepydOeXoTJi1HlDpa/JtSEdPPtNLu2SHqCu4KshnwtIAGU++Kt+GdPJSgCTPJb1qoBwSVAsvQDkNyZ4AwhxS3JdfXoNYSce/wigrqCouPk4n2NuZxEcQIu12r3S6cxY0peeEiBXGr98QEIb0m1CZhSD8+OMsOTMWOtlHlhP9ouxkTKshGlSF4DPot6++EEmQfhcgTUQZL+yXsPqx5SRxJgwPxHMB0O/fGFACUiNhEA9J+nodBNT4zgDJkFDBS2xbrLKckA70Cuh7AyTPJZSTv7lJvl5HTkDk+8GFBMnUc0IPf+s5ROn4NyH4F/umGyW7p0SWkwNJELf3hfhXxuPvBBCGJKxLmtaTTuj5GdlyElK2J8RVcl9+N4DwUvunELHIOJf4w26Q3KXIeJdCyDD3z2+6Dsl09FaonVEQJDd1z52Br9dFU8gqiK+8/WaiTzptvRZGEMrDyWQ3WqrjN6HxGE8hyBM05fVXsczdhg7fCLNcQws+yMwe6TJ4/shbCHG8tOs330jaXkebh78IUcIMsMUFTyGFI+5KGHHol8NvoODdgE4+ijHSgnp6YGanHojYH84T8KHp+F+B5WnoPClAEPuPGDnO/fc74toynbwXK4va08TWw6AtdJCmvf9ue4jQ4ZtrTazvROgm1ZtImL9LngBp8+QfMdQmag/A4Vmpg8gU+j55AqTjd67YTejSi63E3qnYQZrx7jueQpyO/rgWOwLlK6Elv5KXrl//8Z3JCatoc+ujGJhSMzoZK9MxxOCYxouj73/EUTr+nxStVNMaiStvf4gRR+lw45EUZlTEo6BHG985j0vQ8btkBFbALX4MliDS1jO5m0AHPfvuJO2b0Obxu7TYv3gGvTv+cViCSFsbP7syJs39+cfsoJiO38tr0/X7H3AGQdo+egw4hIZ+PfomO0MPSkfP6NAjA+4HERLW0+bJh1ehn/Sr1z+AWHoz2jz+MzCCJz8sh0ujw60nWz+ajPA5+vEZwn/0H/1H/9F3RP8PdcsdH9+sTp4AAAAASUVORK5CYII=)\n",
        "\n",
        "A continuación se detallan otras funcionalidades de Markdown que les pueden resultar útiles:"
      ]
    },
    {
      "cell_type": "markdown",
      "metadata": {
        "id": "jQwD2XEb1wQo"
      },
      "source": [
        "### **Headings**\n"
      ]
    },
    {
      "cell_type": "markdown",
      "metadata": {
        "id": "39-m4XKw9vtb"
      },
      "source": [
        "```markdown\n",
        "# Sección 1\n",
        "# Sección 2\n",
        "## Sub-sección debajo de la Sección 2\n",
        "### Sub-sub-sección debajo de la sub-sección debajo de la Sección 2\n",
        "# Sección 3\n",
        "```\n",
        "\n",
        "Por ejemplo, en este documento \"*Headings*\" es una sub-sub-sección debajo de la sub-sección *MARKDOWN* debajo de la sección *INTRODUCCIÓN*.\n",
        "\n",
        "Esto se puede ver cómodamente en el índice que te facilita Colab en la parte superior del menú de la izquierda."
      ]
    },
    {
      "cell_type": "markdown",
      "metadata": {
        "id": "Sq6VKf6Y4IwL"
      },
      "source": [
        "### **Identaciones**\n"
      ]
    },
    {
      "cell_type": "markdown",
      "metadata": {
        "id": "xj-mdunS9r7-"
      },
      "source": [
        "\n",
        "\">\" Identación simple\n",
        "> Como acá\n",
        "\n",
        "\">>\" Doble identación\n",
        ">> Como acá"
      ]
    },
    {
      "cell_type": "markdown",
      "metadata": {
        "id": "80rTT2OX42jR"
      },
      "source": [
        "### **Listas**\n"
      ]
    },
    {
      "cell_type": "markdown",
      "metadata": {
        "id": "x00jFevl9kHx"
      },
      "source": [
        "#### ORDENADAS\n",
        "\n",
        "1. Uno\n",
        "2. Dos\n",
        "3. Tres\n"
      ]
    },
    {
      "cell_type": "markdown",
      "metadata": {
        "id": "98TSBlcy9n3M"
      },
      "source": [
        "#### NO ORDENADAS\n",
        "\n",
        "* Uno\n",
        "* Dos\n",
        "* Tres"
      ]
    },
    {
      "cell_type": "markdown",
      "metadata": {
        "id": "YEGS3m4F8aT0"
      },
      "source": [
        "### **Ecuaciones**\n"
      ]
    },
    {
      "cell_type": "markdown",
      "metadata": {
        "id": "nlJzq2W19dAQ"
      },
      "source": [
        "Tan solo escribiendo la ecuación entre signos $ se puede acceder a una renderización similar a la que se ve en los editores de LaTeX.\n",
        "\n",
        "Por ejemplo:"
      ]
    },
    {
      "cell_type": "markdown",
      "metadata": {
        "id": "eB9Zu19N6kZb"
      },
      "source": [
        "\n",
        "```markdown\n",
        "$y=x^2$\n",
        "\n",
        "$e^{i\\pi} + 1 = 0$\n",
        "\n",
        "$e^x=\\sum_{i=0}^\\infty \\frac{1}{i!}x^i$\n",
        "\n",
        "$\\frac{n!}{k!(n-k)!} = {n \\choose k}$\n",
        "\n",
        "$A_{m,n} =\n",
        " \\begin{pmatrix}\n",
        "  a_{1,1} & a_{1,2} & \\cdots & a_{1,n} \\\\\n",
        "  a_{2,1} & a_{2,2} & \\cdots & a_{2,n} \\\\\n",
        "  \\vdots  & \\vdots  & \\ddots & \\vdots  \\\\\n",
        "  a_{m,1} & a_{m,2} & \\cdots & a_{m,n}\n",
        " \\end{pmatrix}$\n",
        "```\n",
        "\n",
        "Se renderiza a:\n",
        "\n",
        "$y=x^2$\n",
        "\n",
        "$e^{i\\pi} + 1 = 0$\n",
        "\n",
        "$e^x=\\sum_{i=0}^\\infty \\frac{1}{i!}x^i$\n",
        "\n",
        "$\\frac{n!}{k!(n-k)!} = {n \\choose k}$\n",
        "\n",
        "$A_{m,n} =\n",
        " \\begin{pmatrix}\n",
        "  a_{1,1} & a_{1,2} & \\cdots & a_{1,n} \\\\\n",
        "  a_{2,1} & a_{2,2} & \\cdots & a_{2,n} \\\\\n",
        "  \\vdots  & \\vdots  & \\ddots & \\vdots  \\\\\n",
        "  a_{m,1} & a_{m,2} & \\cdots & a_{m,n}\n",
        " \\end{pmatrix}$\n"
      ]
    },
    {
      "cell_type": "markdown",
      "metadata": {
        "id": "9H2YU51h65GX"
      },
      "source": [
        "### **Tablas**\n"
      ]
    },
    {
      "cell_type": "markdown",
      "metadata": {
        "id": "m73P5dNf9P5X"
      },
      "source": [
        "Escribiendo:\n",
        "```markdown\n",
        "First column name  | Second column name\n",
        "-------------------|------------------\n",
        "Row 1, Col 1       | Row 1, Col 2\n",
        "Row 2, Col 1       | Row 2, Col 2\n",
        "```\n",
        "\n",
        "Se renderiza a :\n",
        "\n",
        "First column name  | Second column name\n",
        "-------------------|------------------\n",
        "Row 1, Col 1       | Row 1, Col 2\n",
        "Row 2, Col 1       | Row 2, Col 2"
      ]
    },
    {
      "cell_type": "markdown",
      "metadata": {
        "id": "m-ufqWpE67Rq"
      },
      "source": [
        "### **Rayas horizontales**"
      ]
    },
    {
      "cell_type": "markdown",
      "metadata": {
        "id": "hH209WIZ9UG3"
      },
      "source": [
        "Escribiendo:\n",
        "\n",
        "```\n",
        "---\n",
        "```\n",
        "Se renderiza a:\n",
        "\n",
        "---"
      ]
    },
    {
      "cell_type": "markdown",
      "metadata": {
        "id": "1hzejls77hU1"
      },
      "source": [
        "Fuentes que les pueden ser de utilidad para obtener ejemplos de otras funcionalidades de Markdown:\n",
        "\n",
        "* [Github Markdown basics](https://help.github.com/articles/markdown-basics/)\n",
        "* [Github flavored Markdown](https://help.github.com/articles/github-flavored-markdown/)\n",
        "* [Original Markdown spec: Syntax](http://daringfireball.net/projects/markdown/syntax)\n",
        "* [Original Markdown spec: Basics](http://daringfireball.net/projects/markdown/basics)\n",
        "* [marked.js library used by Colab](https://github.com/chjj/marked)\n",
        "* [LaTex mathematics for equations](https://en.wikibooks.org/wiki/LaTeX/Mathematics)"
      ]
    },
    {
      "cell_type": "markdown",
      "metadata": {
        "id": "xHroPosN-iHl"
      },
      "source": [
        "# Programando con Python"
      ]
    },
    {
      "cell_type": "markdown",
      "metadata": {
        "id": "JpogRiw9n_MB"
      },
      "source": [
        "<img width=\"250\" height=\"230\" src=\"https://media.giphy.com/media/KAq5w47R9rmTuvWOWa/giphy.gif\">"
      ]
    },
    {
      "cell_type": "markdown",
      "metadata": {
        "id": "SVva8acTQl0t"
      },
      "source": [
        "### Inicialización y declaración de variables\n",
        "\n",
        "En Python se declara e inicializa (se asigna un valor) a las variables en la misma línea del código.\n",
        "\n",
        "En contraparte con otros lenguajes, no se aclara el tipo de variable a declarar sino que se interpreta automáticamente.\n"
      ]
    },
    {
      "cell_type": "code",
      "execution_count": null,
      "metadata": {
        "colab": {
          "base_uri": "https://localhost:8080/"
        },
        "id": "jaNyKyQECD8U",
        "outputId": "ee129efb-8f32-4a08-f0a7-1299f0d450f4"
      },
      "outputs": [
        {
          "name": "stdout",
          "output_type": "stream",
          "text": [
            "Chau \"hola\"\n"
          ]
        }
      ],
      "source": [
        "a = \"Hola\" # string o cadena de caracteres\n",
        "b = 'Chau \"hola\"'\n",
        "\n",
        "c = 2 #int\n",
        "d = 5.0 #float\n",
        "\n",
        "t = True # booleans\n",
        "f = False\n",
        "\n",
        "print(b)"
      ]
    },
    {
      "cell_type": "markdown",
      "metadata": {
        "id": "5fpWQKarPw1k"
      },
      "source": [
        "### Print\n",
        "\n",
        "Para poder mostrar texto, se utiliza el comando `print()` poniendo lo que deseemos mostrar entre los paréntesis."
      ]
    },
    {
      "cell_type": "code",
      "execution_count": null,
      "metadata": {
        "colab": {
          "base_uri": "https://localhost:8080/"
        },
        "id": "-vr8IqNjQUVE",
        "outputId": "0775cef4-de43-41f4-92ec-f1dda9f402c2"
      },
      "outputs": [
        {
          "name": "stdout",
          "output_type": "stream",
          "text": [
            "Chau \"hola\"\n"
          ]
        }
      ],
      "source": [
        "print(b)"
      ]
    },
    {
      "cell_type": "markdown",
      "metadata": {
        "id": "TnK-ge9G_ltY"
      },
      "source": [
        "También la consola \"imprime\" la última línea ejecutada:"
      ]
    },
    {
      "cell_type": "code",
      "execution_count": null,
      "metadata": {
        "colab": {
          "base_uri": "https://localhost:8080/"
        },
        "id": "1dMwPOtX_uQF",
        "outputId": "5118c79a-9a4c-400c-b364-26555fb87087"
      },
      "outputs": [
        {
          "data": {
            "text/plain": [
              "16"
            ]
          },
          "execution_count": 3,
          "metadata": {},
          "output_type": "execute_result"
        }
      ],
      "source": [
        "2+8+6"
      ]
    },
    {
      "cell_type": "markdown",
      "metadata": {
        "id": "xLbwSJ6_4M4T"
      },
      "source": [
        "Si quisieramos imprimir en una misma línea de código varias variables, con separarlas por coma basta:"
      ]
    },
    {
      "cell_type": "code",
      "execution_count": null,
      "metadata": {
        "colab": {
          "base_uri": "https://localhost:8080/"
        },
        "id": "u1z7_VbN4S_3",
        "outputId": "e4c32481-8243-44db-9119-c51a88e3e67d"
      },
      "outputs": [
        {
          "name": "stdout",
          "output_type": "stream",
          "text": [
            "5 + 6 = 11\n"
          ]
        }
      ],
      "source": [
        "a = 5\n",
        "b = 6\n",
        "print(a,'+',b,'=',a+b)"
      ]
    },
    {
      "cell_type": "markdown",
      "metadata": {
        "id": "S3K8Z3U-4b-8"
      },
      "source": [
        "Como realizar esto puede ser un poco tedioso, se puede utilizar la herramienta conocida como *f-Strings* para simplificar esto. Se pone antes de la generación de la cadena de caracteres la letra \" *f* \" y luego las variables o el código que tiene que \"leerse\" en Python se coloca entre llaves { } :"
      ]
    },
    {
      "cell_type": "code",
      "execution_count": null,
      "metadata": {
        "colab": {
          "base_uri": "https://localhost:8080/"
        },
        "id": "C8US0xao42KW",
        "outputId": "262849b2-ed02-4271-bb2e-e3766009cf34"
      },
      "outputs": [
        {
          "name": "stdout",
          "output_type": "stream",
          "text": [
            "5 + 6 = 11\n"
          ]
        }
      ],
      "source": [
        "print(f'{a} + {b} = {a+b}')"
      ]
    },
    {
      "cell_type": "markdown",
      "metadata": {
        "id": "THqcJp5i6ERS"
      },
      "source": [
        "Los *f-Strings* también pueden manejar el formato en el que se desean visualizar los datos:"
      ]
    },
    {
      "cell_type": "code",
      "execution_count": null,
      "metadata": {
        "colab": {
          "base_uri": "https://localhost:8080/"
        },
        "id": "En-ySooM6URS",
        "outputId": "7820e4e3-f88b-440f-edc1-02589d719868"
      },
      "outputs": [
        {
          "name": "stdout",
          "output_type": "stream",
          "text": [
            "0.3333333333333333\n",
            "0.33\n",
            "hola      \n",
            "******hola\n",
            "***hola***\n"
          ]
        }
      ],
      "source": [
        "a = 1/3\n",
        "b = 'hola'\n",
        "print(a)\n",
        "print(f'{a:.2}')\n",
        "print(f'{b:<10}')\n",
        "print(f'{b:*>10}')\n",
        "print(f'{b:*^10}')"
      ]
    },
    {
      "cell_type": "markdown",
      "metadata": {
        "id": "R1lGZ-zaH4NT"
      },
      "source": [
        "### Comentarios\n",
        "\n",
        "Para los comentarios cortos se usa el símbolo # pero para los comentarios largos se suele utilizar 3 dobles comillas seguidas (`\"\"\"`) como inicio y como final."
      ]
    },
    {
      "cell_type": "code",
      "execution_count": null,
      "metadata": {
        "colab": {
          "base_uri": "https://localhost:8080/"
        },
        "id": "H15h8B1gIDF6",
        "outputId": "4c981b55-e2d9-49ec-9ee4-b2a9c9c0ffd1"
      },
      "outputs": [
        {
          "name": "stdout",
          "output_type": "stream",
          "text": [
            "5\n"
          ]
        }
      ],
      "source": [
        "# Comentario corto\n",
        "\n",
        "a = 5 # Otro comentario corto\n",
        "\n",
        "\"\"\"\n",
        "Esto\n",
        "es\n",
        "un comentario\n",
        "la\n",
        "a\n",
        "a\n",
        "a\n",
        "a\n",
        "rgo\n",
        "\"\"\"\n",
        "print(5)"
      ]
    },
    {
      "cell_type": "markdown",
      "metadata": {
        "id": "Dt9c05YrRNsM"
      },
      "source": [
        "### Input\n",
        "\n",
        "El input de un programa es la manera de recibir información del entorno externo al programa. La función `input()` permite ingresar datos desde consola pero esta información es interpretada como texto. Por eso cuando queremos ingresar un número se debe usar la función `int()` para convertir ese texto al numero correspondiente."
      ]
    },
    {
      "cell_type": "code",
      "execution_count": null,
      "metadata": {
        "colab": {
          "base_uri": "https://localhost:8080/"
        },
        "id": "me7vmZgeRunX",
        "outputId": "4c362a2e-07ef-494a-929e-d0e88c30dcbd"
      },
      "outputs": [
        {
          "name": "stdout",
          "output_type": "stream",
          "text": [
            "Ingrese su nombre: Aylin\n",
            "Hola Aylin\n"
          ]
        }
      ],
      "source": [
        "nombre = input('Ingrese su nombre: ')\n",
        "print('Hola',nombre)"
      ]
    },
    {
      "cell_type": "code",
      "execution_count": null,
      "metadata": {
        "colab": {
          "base_uri": "https://localhost:8080/"
        },
        "id": "N-vpwIktuJ5s",
        "outputId": "9e966310-2d99-45ae-9a31-b30661688515"
      },
      "outputs": [
        {
          "name": "stdout",
          "output_type": "stream",
          "text": [
            "Ingrese su edad: 25\n",
            "Su edad es 25 años\n"
          ]
        }
      ],
      "source": [
        "edad = int(input('Ingrese su edad: '))\n",
        "print('Su edad es',edad, 'años')"
      ]
    },
    {
      "cell_type": "markdown",
      "metadata": {
        "id": "tmpqmKOcW1_G"
      },
      "source": [
        "### Operaciones"
      ]
    },
    {
      "cell_type": "markdown",
      "metadata": {
        "id": "EMpm39YFGqXL"
      },
      "source": [
        "#### Básicas"
      ]
    },
    {
      "cell_type": "markdown",
      "metadata": {
        "id": "xKAutXGqW8j8"
      },
      "source": [
        "*   **+** : Sumar dos variables $a+b$\n",
        "*   **-**  : Restar dos variables $a-b$\n",
        "*   **\\*** : Multiplicar dos variables $a\\cdot b$\n",
        "*   **/** : Dividir una variable por la otra $\\frac{a}{b}$\n",
        "*   **\\*\\*** : Una variable elevado a la otra $a^{b}$\n",
        "*   **=** : Asignarle un valor a una variable $a \\leftarrow b$\n",
        "* **%** : Calcular el resto de una variable sobre otra  (*por ejemplo 5%3 = 2*)\n",
        "* **//**: División entera"
      ]
    },
    {
      "cell_type": "code",
      "execution_count": null,
      "metadata": {
        "colab": {
          "base_uri": "https://localhost:8080/"
        },
        "id": "su2Qe0m7a16U",
        "outputId": "ac7938e5-341c-44af-c7bb-f0b7cfa89b74"
      },
      "outputs": [
        {
          "data": {
            "text/plain": [
              "8"
            ]
          },
          "execution_count": 16,
          "metadata": {},
          "output_type": "execute_result"
        }
      ],
      "source": [
        "2**3"
      ]
    },
    {
      "cell_type": "code",
      "execution_count": null,
      "metadata": {
        "colab": {
          "base_uri": "https://localhost:8080/"
        },
        "id": "GLJ5KbPautKt",
        "outputId": "fe42c37e-a7e0-4c05-c49f-d42548f1599a"
      },
      "outputs": [
        {
          "data": {
            "text/plain": [
              "0"
            ]
          },
          "execution_count": 17,
          "metadata": {},
          "output_type": "execute_result"
        }
      ],
      "source": [
        "15%5"
      ]
    },
    {
      "cell_type": "code",
      "execution_count": null,
      "metadata": {
        "colab": {
          "base_uri": "https://localhost:8080/"
        },
        "id": "YZ_38wNCvJnu",
        "outputId": "868c78f0-08eb-41b6-caa6-adb67bd2d34d"
      },
      "outputs": [
        {
          "data": {
            "text/plain": [
              "2"
            ]
          },
          "execution_count": 18,
          "metadata": {},
          "output_type": "execute_result"
        }
      ],
      "source": [
        "5//2"
      ]
    },
    {
      "cell_type": "markdown",
      "metadata": {
        "id": "9TtUIh0IGsHB"
      },
      "source": [
        "#### Comparación"
      ]
    },
    {
      "cell_type": "markdown",
      "metadata": {
        "id": "MO-sZ3JJXwik"
      },
      "source": [
        "*   **<** : Menor que $a < b$\n",
        "*   **>** : Mayor que $a > b$\n",
        "*   **<=** : Menor o igual que $a \\leq b$\n",
        "*   **>=** : Mayor o igual que $a \\geq b$\n",
        "*   **==** : Es igual $a = b$\n",
        "*   **!=** : Es distinto $a \\neq b$\n",
        "\n",
        "Recordar que al comprarar dos números se obtiene `True` o `False`, es decir, un valor boolean."
      ]
    },
    {
      "cell_type": "code",
      "execution_count": null,
      "metadata": {
        "colab": {
          "base_uri": "https://localhost:8080/"
        },
        "id": "9dc4j6YdYbtF",
        "outputId": "e546e52d-7425-4a67-ce8a-6c562cef0e26"
      },
      "outputs": [
        {
          "data": {
            "text/plain": [
              "False"
            ]
          },
          "execution_count": 19,
          "metadata": {},
          "output_type": "execute_result"
        }
      ],
      "source": [
        "5 != 5"
      ]
    },
    {
      "cell_type": "markdown",
      "metadata": {
        "id": "YDTQTN9FYwgD"
      },
      "source": [
        "Para comparar muchas condiciones se debe utilizar:\n",
        "*  **and**: valor lógico \"y\" o \"^\" o \"intersección\"\n",
        "*  **or**: valor lógico \"o\" o  \"v\" o \"unión\"\n",
        "*  **not**: no cumplimiento de una condición"
      ]
    },
    {
      "cell_type": "code",
      "execution_count": null,
      "metadata": {
        "colab": {
          "base_uri": "https://localhost:8080/"
        },
        "id": "PtTJNVU3vnZ9",
        "outputId": "3cf37d29-bf36-493e-d935-75444a9d0635"
      },
      "outputs": [
        {
          "data": {
            "text/plain": [
              "False"
            ]
          },
          "execution_count": 20,
          "metadata": {},
          "output_type": "execute_result"
        }
      ],
      "source": [
        "not True"
      ]
    },
    {
      "cell_type": "code",
      "execution_count": null,
      "metadata": {
        "colab": {
          "base_uri": "https://localhost:8080/"
        },
        "id": "B5w2o9H1YxRD",
        "outputId": "31ec945a-061b-4a44-b497-f04b42cec9a1"
      },
      "outputs": [
        {
          "data": {
            "text/plain": [
              "False"
            ]
          },
          "execution_count": 21,
          "metadata": {},
          "output_type": "execute_result"
        }
      ],
      "source": [
        "True and False"
      ]
    },
    {
      "cell_type": "code",
      "execution_count": null,
      "metadata": {
        "colab": {
          "base_uri": "https://localhost:8080/"
        },
        "id": "DdfehYXVvkuN",
        "outputId": "6f70b95d-7d81-42fb-b89d-4f27180e3893"
      },
      "outputs": [
        {
          "data": {
            "text/plain": [
              "True"
            ]
          },
          "execution_count": 22,
          "metadata": {},
          "output_type": "execute_result"
        }
      ],
      "source": [
        "False or True"
      ]
    },
    {
      "cell_type": "markdown",
      "metadata": {
        "id": "eoHrvtYyZWZ5"
      },
      "source": [
        "#### Condicionales"
      ]
    },
    {
      "cell_type": "markdown",
      "metadata": {
        "id": "39ZsY-JdHFIU"
      },
      "source": [
        "Antes de aclarar los condicionales, es importante destacar que Python, a diferencia de otros lenguajes, utiliza las identaciones (Tab o espacios) y los dos puntos ( : ) para diferenciar las instancias de ejecución."
      ]
    },
    {
      "cell_type": "code",
      "execution_count": null,
      "metadata": {
        "id": "nvlzPDh_ZTTb"
      },
      "outputs": [],
      "source": [
        "sonido_animal = \"miau\"\n",
        "\n",
        "if sonido_animal == \"muuu\":\n",
        "  print('Es una vaca')\n",
        "elif sonido_animal == \"guau\":\n",
        "  print('Es un perro')\n",
        "else:\n",
        "  print('No se qué animal es')\n",
        "\n",
        "print('Estoy afuera del if')"
      ]
    },
    {
      "cell_type": "markdown",
      "metadata": {
        "id": "QCBARKYmJLhY"
      },
      "source": [
        "`elif` viene a reemplazar lo que en otros lenguajes se llama \"switch\" o \"case\", es decir, sirve para enlazar varios \"else if\", sin tener que aumentar las tabulaciones en cada nueva comparación. Es importante tener en cuenta que no es lo mismo que distintos `if` enlazados, ya que para ingresar a `elif` es necesario que la/las anterior/es instancias no se cumpla/an."
      ]
    },
    {
      "cell_type": "markdown",
      "metadata": {
        "id": "OgIe85Q3GiPX"
      },
      "source": [
        "### Loops"
      ]
    },
    {
      "cell_type": "markdown",
      "metadata": {
        "id": "NogUvL83Zp7T"
      },
      "source": [
        "#### while\n",
        "\n",
        "`while CONDICION:`\n",
        "\n",
        "> `    lo que se tenga que ejecutar en el loop`"
      ]
    },
    {
      "cell_type": "code",
      "execution_count": null,
      "metadata": {
        "colab": {
          "base_uri": "https://localhost:8080/"
        },
        "id": "JODQFFtEZtEQ",
        "outputId": "ef1fc26d-4d07-42b9-c5ab-b449d0a07f73"
      },
      "outputs": [
        {
          "name": "stdout",
          "output_type": "stream",
          "text": [
            "1\n",
            "2\n",
            "3\n",
            "4\n",
            "5\n",
            "6\n",
            "7\n",
            "8\n",
            "9\n",
            "10\n",
            "Fin\n"
          ]
        }
      ],
      "source": [
        "a = 1\n",
        "\n",
        "while a <= 10:\n",
        "  print(a)\n",
        "  a = a + 1\n",
        "else:\n",
        "  print('Fin')"
      ]
    },
    {
      "cell_type": "markdown",
      "metadata": {
        "id": "zNqdZUpFaP_M"
      },
      "source": [
        "#### for\n",
        "\n",
        "`for NOMBRE_VARIABLE in CADENA_A_RECORRER_LA_VARIABLE`:\n",
        "> `lo que se tenga que ejecutar en el loop`"
      ]
    },
    {
      "cell_type": "code",
      "execution_count": null,
      "metadata": {
        "colab": {
          "base_uri": "https://localhost:8080/"
        },
        "id": "DSzYZ3QQNc6o",
        "outputId": "a5c5b062-f8c6-4f51-d37b-6005c5a6b313"
      },
      "outputs": [
        {
          "name": "stdout",
          "output_type": "stream",
          "text": [
            "H\n",
            "o\n",
            "l\n",
            "a\n",
            " \n",
            "c\n",
            "o\n",
            "m\n",
            "o\n",
            " \n",
            "a\n",
            "n\n",
            "d\n",
            "a\n",
            "s\n"
          ]
        }
      ],
      "source": [
        "for i in \"Hola como andas\":\n",
        "  print(i)"
      ]
    },
    {
      "cell_type": "code",
      "execution_count": null,
      "metadata": {
        "colab": {
          "base_uri": "https://localhost:8080/"
        },
        "id": "ncXD_QmfNili",
        "outputId": "a6c65c82-1f16-4edb-d1ce-cc71c0100ebe"
      },
      "outputs": [
        {
          "name": "stdout",
          "output_type": "stream",
          "text": [
            "1\n",
            "2\n",
            "3\n",
            "4\n",
            "5\n",
            "6\n",
            "Fin\n"
          ]
        }
      ],
      "source": [
        "for i in [1,2,3,4,5,6]:\n",
        "  print(i)\n",
        "else:\n",
        "  print('Fin')"
      ]
    },
    {
      "cell_type": "markdown",
      "metadata": {
        "id": "EsbnSC-zLBAc"
      },
      "source": [
        "`range(a,b,d)`  genera una lista de valores desde `a` hasta `b` con incrementos de a `d`.\n",
        "\n",
        "Es importante destacar que el límite superior del rango (b) no es incluído."
      ]
    },
    {
      "cell_type": "code",
      "execution_count": null,
      "metadata": {
        "colab": {
          "base_uri": "https://localhost:8080/"
        },
        "id": "zsN-58xMaRF0",
        "outputId": "41da8e9f-7525-4389-99c3-925b155251be"
      },
      "outputs": [
        {
          "name": "stdout",
          "output_type": "stream",
          "text": [
            "0\n",
            "2\n",
            "4\n",
            "6\n",
            "8\n"
          ]
        }
      ],
      "source": [
        "for j in range(0,10,2):\n",
        "  print(j)"
      ]
    },
    {
      "cell_type": "markdown",
      "metadata": {
        "id": "DBW5gFYcam6e"
      },
      "source": [
        "No es necesario proporcionar siempre los 3 parametros."
      ]
    },
    {
      "cell_type": "code",
      "execution_count": null,
      "metadata": {
        "colab": {
          "base_uri": "https://localhost:8080/"
        },
        "id": "2Ol6r3wezQS_",
        "outputId": "5c0d142f-e9d2-4bf9-fa30-8adf0a1b219f"
      },
      "outputs": [
        {
          "name": "stdout",
          "output_type": "stream",
          "text": [
            "Hola\n",
            "Hola\n",
            "Hola\n"
          ]
        }
      ],
      "source": [
        "for j in range(3):\n",
        "  print('Hola')"
      ]
    },
    {
      "cell_type": "code",
      "execution_count": null,
      "metadata": {
        "colab": {
          "base_uri": "https://localhost:8080/"
        },
        "id": "HxT-DLooavLr",
        "outputId": "907f2d5a-c86b-4311-b465-4d58717c4271"
      },
      "outputs": [
        {
          "name": "stdout",
          "output_type": "stream",
          "text": [
            "10\n",
            "11\n",
            "12\n",
            "13\n",
            "14\n",
            "15\n",
            "16\n",
            "17\n",
            "18\n",
            "19\n",
            "20\n",
            "21\n",
            "22\n",
            "23\n",
            "24\n"
          ]
        }
      ],
      "source": [
        "for j in range(10,25):\n",
        "  print(j)"
      ]
    },
    {
      "cell_type": "markdown",
      "metadata": {
        "id": "-4R4m5Qfa82D"
      },
      "source": [
        "### Funciones\n",
        "\n",
        "`def NOMBRE_DE_FUNCION (input1, input2):`\n",
        "> ` lo que se tenga que ejecutar en la función`\n",
        "\n",
        "> ` return output1, output2`"
      ]
    },
    {
      "cell_type": "code",
      "execution_count": null,
      "metadata": {
        "id": "xagG3H2Cdg7V"
      },
      "outputs": [],
      "source": [
        "def imprimir_hola():\n",
        "  print('Hola como andas')"
      ]
    },
    {
      "cell_type": "code",
      "execution_count": null,
      "metadata": {
        "colab": {
          "base_uri": "https://localhost:8080/"
        },
        "id": "H0A1rWgZ0nlx",
        "outputId": "5b61ce26-24a8-4f58-cd8a-320ec3c6e9e5"
      },
      "outputs": [
        {
          "name": "stdout",
          "output_type": "stream",
          "text": [
            "Hola como andas\n"
          ]
        }
      ],
      "source": [
        "imprimir_hola()"
      ]
    },
    {
      "cell_type": "code",
      "execution_count": null,
      "metadata": {
        "id": "Zs0x9F4Z0ul6"
      },
      "outputs": [],
      "source": [
        "def restar(a,b):\n",
        "  print(a-b)"
      ]
    },
    {
      "cell_type": "code",
      "execution_count": null,
      "metadata": {
        "colab": {
          "base_uri": "https://localhost:8080/"
        },
        "id": "IYA1SLwm0y3H",
        "outputId": "eb99bdd2-5881-4e33-8446-3f417857a125"
      },
      "outputs": [
        {
          "name": "stdout",
          "output_type": "stream",
          "text": [
            "-1\n"
          ]
        }
      ],
      "source": [
        "restar(5,6)"
      ]
    },
    {
      "cell_type": "code",
      "execution_count": null,
      "metadata": {
        "id": "Dz4ryv0w060i"
      },
      "outputs": [],
      "source": [
        "def sumar(x,y):\n",
        "  s = x+y\n",
        "  return s\n",
        "\n",
        "a = sumar(5,6)"
      ]
    },
    {
      "cell_type": "code",
      "execution_count": null,
      "metadata": {
        "colab": {
          "base_uri": "https://localhost:8080/"
        },
        "id": "rGDzD_Q-dnbm",
        "outputId": "5ebee556-d7fe-4a3b-e21a-93b024a64a51"
      },
      "outputs": [
        {
          "name": "stdout",
          "output_type": "stream",
          "text": [
            "11\n"
          ]
        }
      ],
      "source": [
        "print(a)"
      ]
    },
    {
      "cell_type": "code",
      "execution_count": null,
      "metadata": {
        "colab": {
          "base_uri": "https://localhost:8080/"
        },
        "id": "mWcryMbjdwEX",
        "outputId": "3ce4063e-d5f3-4d22-e262-7057526040e1"
      },
      "outputs": [
        {
          "data": {
            "text/plain": [
              "(4, 8, 0)"
            ]
          },
          "execution_count": 37,
          "metadata": {},
          "output_type": "execute_result"
        }
      ],
      "source": [
        "def hola(variable1, variable2, variable3=0):\n",
        "\n",
        "  return 2*variable1, 2*variable2, 2*variable3\n",
        "\n",
        "hola(2,4)"
      ]
    },
    {
      "cell_type": "markdown",
      "metadata": {
        "id": "st13SwCdatmc"
      },
      "source": [
        "### Librerías"
      ]
    },
    {
      "cell_type": "markdown",
      "metadata": {
        "id": "BBjewnRvayL8"
      },
      "source": [
        "Una *librería* o *biblioteca* es un conjunto de funciones implementadas por otro programador que nos facilitan realizar tareas, principalmente porque no debemos volver a programar este código.\n",
        "\n",
        "Para usar una librería se debe ejecutar el siguiente código:\n",
        "\n",
        "> `import nombre_de_la_libreria as abreviacion_de_la_libreria`\n",
        "\n",
        "Cabe aclarar que no todas las librerías tienen una \"abreviación\" entonces basta con poner `import nombre_de_la_libreria`\n",
        "\n",
        "Las librerías muchas veces están separadas en distintos módulos que a su vez podrían llegar a estar subdivididos en módulos, y cada módulo podría estar nuevamente subdividido, etc.\n",
        "\n",
        "Si no queremos importar la librería completa, podemos importar sólo un módulo de esta forma:\n",
        "\n",
        "> `from nombre_de_libreria import nombre_del_módulo as abreviacion_del_modulo`\n",
        "\n",
        "También se puede usar un punto para acceder a un módulo, con un punto (`.`):\n",
        "\n",
        "> `import nombre_de_la_libreria.nombre_del_módulo as abreviacion_del_modulo`\n",
        "\n",
        "Una vez importada la librería y/o el módulo deseado, podremos utilizar las funciones definidas en ella de la siguiente forma:\n",
        "\n",
        "> `nombre_de_libreria.función(argumentos)`\n",
        "\n",
        "> `nombre_de_libreria.nombre_del_módulo.función(argumentos)`\n"
      ]
    },
    {
      "cell_type": "code",
      "execution_count": null,
      "metadata": {
        "colab": {
          "base_uri": "https://localhost:8080/"
        },
        "id": "Nj0NJv5Hclrv",
        "outputId": "075864b5-872e-442f-dfe1-6a893da07246"
      },
      "outputs": [
        {
          "name": "stdout",
          "output_type": "stream",
          "text": [
            "1.0\n"
          ]
        }
      ],
      "source": [
        "import math as m\n",
        "\n",
        "s = m.sin(m.pi/2)\n",
        "print(s)"
      ]
    },
    {
      "cell_type": "code",
      "execution_count": null,
      "metadata": {
        "colab": {
          "base_uri": "https://localhost:8080/"
        },
        "id": "QqCA5pks292Z",
        "outputId": "1a20cf35-3cb8-41e0-d613-ea63f391c836"
      },
      "outputs": [
        {
          "data": {
            "text/plain": [
              "3.141592653589793"
            ]
          },
          "execution_count": 39,
          "metadata": {},
          "output_type": "execute_result"
        }
      ],
      "source": [
        "m.pi"
      ]
    },
    {
      "cell_type": "markdown",
      "metadata": {
        "id": "re_ZruGZdSJt"
      },
      "source": [
        "Librerías que se van a utilizar en la materia y otras que pueden resultarles interesantes:\n",
        "\n",
        "\n",
        "*   [numpy](https://numpy.org/) (Cálculo matricial)\n",
        "*   [pandas](https://pandas.pydata.org/) (Lectura de bases de datos)\n",
        "*   [maplotlib](https://matplotlib.org/) (Gráficos)\n",
        "*   [tkinter](https://docs.python.org/3/library/tk.html) (Interfaces gráficas)\n",
        "*   [Qt](https://www.qt.io/qt-for-python) (Interfaces gráficas)\n",
        "*   [scipy](https://www.scipy.org/) (Ciencia de datos)\n",
        "*   [scikit-learn](https://scikit-learn.org) (Machine Learning)\n",
        "*   [TensorFlow](https://scikit-learn.org) (Machine Learning avanzado)"
      ]
    },
    {
      "cell_type": "markdown",
      "metadata": {
        "id": "ql5DQKJQdjM2"
      },
      "source": [
        "La instalación de las librerías son independientes de la instalación de Python, y si cierta librería no se encuentra instalada en el sistema entonces el comando `import` para esa librería no funcionará.\n",
        "Para instalar las librerías *numpy* y *pandas* en el entorno de Google Colab se debe ejecutar el siguiente bloque de código:"
      ]
    },
    {
      "cell_type": "code",
      "execution_count": null,
      "metadata": {
        "id": "nbi9PU7YdsOe"
      },
      "outputs": [],
      "source": [
        "import numpy as np"
      ]
    },
    {
      "cell_type": "markdown",
      "metadata": {
        "id": "i7e9tJZ2d2Mb"
      },
      "source": [
        "Numpy (**Num**-ber **Py**-thon) es una librería muy importante porque es la libreria estándar de Python para trabajar con vectores y matrices. Extiende la funcionalidad de Python permitiendo el uso de expresiones vectorizadas (tales como las de Matlab)\n",
        "\n",
        "Matplotlib (**Mat**-h **Plot** **Lib**rary) es la libreria estandar de Python para realizar gráficos de diversos tipos."
      ]
    },
    {
      "cell_type": "code",
      "execution_count": null,
      "metadata": {
        "colab": {
          "base_uri": "https://localhost:8080/"
        },
        "id": "48Z29gHj3X0f",
        "outputId": "2f736cad-9a27-4e4b-b01e-68aacb87acef"
      },
      "outputs": [
        {
          "name": "stdout",
          "output_type": "stream",
          "text": [
            "Looking in indexes: https://pypi.org/simple, https://us-python.pkg.dev/colab-wheels/public/simple/\n",
            "Requirement already satisfied: numpy in /usr/local/lib/python3.7/dist-packages (1.21.6)\n"
          ]
        }
      ],
      "source": [
        "! pip install numpy"
      ]
    },
    {
      "cell_type": "code",
      "execution_count": null,
      "metadata": {
        "colab": {
          "base_uri": "https://localhost:8080/"
        },
        "id": "5Q1XkxhA3_Ns",
        "outputId": "0dc7b2e7-41ef-4c88-b882-87c77d661979"
      },
      "outputs": [
        {
          "name": "stdout",
          "output_type": "stream",
          "text": [
            "Looking in indexes: https://pypi.org/simple, https://us-python.pkg.dev/colab-wheels/public/simple/\n",
            "Collecting mne\n",
            "  Downloading mne-1.3.1-py3-none-any.whl (7.6 MB)\n",
            "\u001b[2K     \u001b[90m━━━━━━━━━━━━━━━━━━━━━━━━━━━━━━━━━━━━━━━━\u001b[0m \u001b[32m7.6/7.6 MB\u001b[0m \u001b[31m43.3 MB/s\u001b[0m eta \u001b[36m0:00:00\u001b[0m\n",
            "\u001b[?25hRequirement already satisfied: matplotlib in /usr/local/lib/python3.9/dist-packages (from mne) (3.5.3)\n",
            "Requirement already satisfied: jinja2 in /usr/local/lib/python3.9/dist-packages (from mne) (3.1.2)\n",
            "Requirement already satisfied: scipy>=1.1.0 in /usr/local/lib/python3.9/dist-packages (from mne) (1.10.1)\n",
            "Requirement already satisfied: tqdm in /usr/local/lib/python3.9/dist-packages (from mne) (4.65.0)\n",
            "Requirement already satisfied: packaging in /usr/local/lib/python3.9/dist-packages (from mne) (23.0)\n",
            "Requirement already satisfied: pooch>=1.5 in /usr/local/lib/python3.9/dist-packages (from mne) (1.7.0)\n",
            "Requirement already satisfied: decorator in /usr/local/lib/python3.9/dist-packages (from mne) (4.4.2)\n",
            "Requirement already satisfied: numpy>=1.15.4 in /usr/local/lib/python3.9/dist-packages (from mne) (1.22.4)\n",
            "Requirement already satisfied: requests>=2.19.0 in /usr/local/lib/python3.9/dist-packages (from pooch>=1.5->mne) (2.25.1)\n",
            "Requirement already satisfied: platformdirs>=2.5.0 in /usr/local/lib/python3.9/dist-packages (from pooch>=1.5->mne) (3.1.0)\n",
            "Requirement already satisfied: MarkupSafe>=2.0 in /usr/local/lib/python3.9/dist-packages (from jinja2->mne) (2.1.2)\n",
            "Requirement already satisfied: kiwisolver>=1.0.1 in /usr/local/lib/python3.9/dist-packages (from matplotlib->mne) (1.4.4)\n",
            "Requirement already satisfied: pillow>=6.2.0 in /usr/local/lib/python3.9/dist-packages (from matplotlib->mne) (8.4.0)\n",
            "Requirement already satisfied: cycler>=0.10 in /usr/local/lib/python3.9/dist-packages (from matplotlib->mne) (0.11.0)\n",
            "Requirement already satisfied: pyparsing>=2.2.1 in /usr/local/lib/python3.9/dist-packages (from matplotlib->mne) (3.0.9)\n",
            "Requirement already satisfied: python-dateutil>=2.7 in /usr/local/lib/python3.9/dist-packages (from matplotlib->mne) (2.8.2)\n",
            "Requirement already satisfied: fonttools>=4.22.0 in /usr/local/lib/python3.9/dist-packages (from matplotlib->mne) (4.39.0)\n",
            "Requirement already satisfied: six>=1.5 in /usr/local/lib/python3.9/dist-packages (from python-dateutil>=2.7->matplotlib->mne) (1.15.0)\n",
            "Requirement already satisfied: chardet<5,>=3.0.2 in /usr/local/lib/python3.9/dist-packages (from requests>=2.19.0->pooch>=1.5->mne) (4.0.0)\n",
            "Requirement already satisfied: idna<3,>=2.5 in /usr/local/lib/python3.9/dist-packages (from requests>=2.19.0->pooch>=1.5->mne) (2.10)\n",
            "Requirement already satisfied: certifi>=2017.4.17 in /usr/local/lib/python3.9/dist-packages (from requests>=2.19.0->pooch>=1.5->mne) (2022.12.7)\n",
            "Requirement already satisfied: urllib3<1.27,>=1.21.1 in /usr/local/lib/python3.9/dist-packages (from requests>=2.19.0->pooch>=1.5->mne) (1.26.14)\n",
            "Installing collected packages: mne\n",
            "Successfully installed mne-1.3.1\n"
          ]
        }
      ],
      "source": [
        "! pip install mne"
      ]
    },
    {
      "cell_type": "markdown",
      "metadata": {
        "id": "MQEcuAmtfgYU"
      },
      "source": [
        "## Estructuras de datos"
      ]
    },
    {
      "cell_type": "markdown",
      "metadata": {
        "id": "vQiceEMCPA7W"
      },
      "source": [
        "Antes de comenzar a explicarlos, es importante destacar que en Python cada estructura cuenta sus posiciones desde 0 hasta N-1"
      ]
    },
    {
      "cell_type": "markdown",
      "metadata": {
        "id": "k2sMw52XOUcl"
      },
      "source": [
        "#### Listas\n",
        "\n",
        "`[0, 1, 2, ...]`\n"
      ]
    },
    {
      "cell_type": "code",
      "execution_count": null,
      "metadata": {
        "colab": {
          "base_uri": "https://localhost:8080/"
        },
        "id": "9-G1BX4qOeuW",
        "outputId": "2e12243f-0067-4bb4-8097-5a177b1c2409"
      },
      "outputs": [
        {
          "name": "stdout",
          "output_type": "stream",
          "text": [
            "[1, 2, 3, 4, 5, 6]\n"
          ]
        }
      ],
      "source": [
        "vacia = []\n",
        "llena = [1,2,3,4,5,6]\n",
        "print(llena)"
      ]
    },
    {
      "cell_type": "markdown",
      "metadata": {
        "id": "fxLUvj3qTDv-"
      },
      "source": [
        "Para acceder a un elemento de una lista se utiliza `lista[índice]`. También se puede modificar el elemento asignandole un valor.\n",
        "\n",
        "Un número de índice negativo es como contar desde el último hasta el principio (*Por ejemplo: -1 es el último el elemento, -2 el anteúltimo, etc*)"
      ]
    },
    {
      "cell_type": "code",
      "execution_count": null,
      "metadata": {
        "colab": {
          "base_uri": "https://localhost:8080/"
        },
        "id": "8TCEYMEaTqxz",
        "outputId": "72c8387b-ab6a-406a-c8b0-128850ee6695"
      },
      "outputs": [
        {
          "name": "stdout",
          "output_type": "stream",
          "text": [
            "4\n"
          ]
        }
      ],
      "source": [
        "lista = [2,4,6,8,10]\n",
        "print(lista[1])"
      ]
    },
    {
      "cell_type": "code",
      "execution_count": null,
      "metadata": {
        "colab": {
          "base_uri": "https://localhost:8080/"
        },
        "id": "l4yB_z2r7Trq",
        "outputId": "6942f8cf-de49-4011-b6fb-b445a02922aa"
      },
      "outputs": [
        {
          "name": "stdout",
          "output_type": "stream",
          "text": [
            "3\n"
          ]
        }
      ],
      "source": [
        "lista_2 = [2,4,5,8,9,7,1,5,3,8]\n",
        "print(lista_2[-2])"
      ]
    },
    {
      "cell_type": "markdown",
      "metadata": {
        "id": "ZzhD2ECWTns-"
      },
      "source": [
        "Al igual que los strings, las listas permiten hacer **slicing**. Esto significa que se puede obtener una sub-lista a partir de valores de comienzo, fin y un \"step\" indicados entre corchetes y separados por dos puntos:"
      ]
    },
    {
      "cell_type": "code",
      "execution_count": null,
      "metadata": {
        "colab": {
          "base_uri": "https://localhost:8080/"
        },
        "id": "UoVOoSnHTkHM",
        "outputId": "87e94f76-ce53-4308-f43f-863acabeb37c"
      },
      "outputs": [
        {
          "name": "stdout",
          "output_type": "stream",
          "text": [
            "[1, 2, 3, 4, 5]\n"
          ]
        }
      ],
      "source": [
        "lista_3 = [1,2,3,4,5,6,7,8,9,10]\n",
        "print(lista_3[0:5])"
      ]
    },
    {
      "cell_type": "code",
      "execution_count": null,
      "metadata": {
        "colab": {
          "base_uri": "https://localhost:8080/"
        },
        "id": "oBOEeBSh7zGX",
        "outputId": "b4ae16e9-516b-4acf-b5c1-10b62806bb29"
      },
      "outputs": [
        {
          "name": "stdout",
          "output_type": "stream",
          "text": [
            "[1, 3, 5]\n"
          ]
        }
      ],
      "source": [
        "lista_3 = [1,2,3,4,5,6,7,8,9,10]\n",
        "print(lista_3[0:5:2])"
      ]
    },
    {
      "cell_type": "markdown",
      "metadata": {
        "id": "P1Ikcb2FU1-W"
      },
      "source": [
        "OPERACIONES SOBRE UNA LISTA:\n",
        "\n",
        "*   **Agregar el contenido de una lista al final de otra (`+`):**  lista1 **+** lista 2 = [lista1, lista2]\n",
        "*   **Largo de una lista (`len()`):** len(lista)\n",
        "*   **Agregar elemento al final de la lista (`.append()`):** lista.append(elemento_a_agregar)\n",
        "*   **Agregar elementos al final de la lista (`.extend()`):**\n",
        "lista.extend(elementos_a_agregar)\n",
        "*   **Quitar el último elemento de la lista (`.pop()`):** lista.pop()\n",
        "*   **Remover el último elemento (`.remove()`):** lista.remove(elemento_a_remover)\n",
        "*   **Eliminar elemento de cierta posición (`del`):** del lista[indice]\n",
        "\n"
      ]
    },
    {
      "cell_type": "code",
      "execution_count": null,
      "metadata": {
        "colab": {
          "base_uri": "https://localhost:8080/"
        },
        "id": "2tOZ5PHnWb8m",
        "outputId": "be807126-91d4-4285-a9e9-0d442ab7272e"
      },
      "outputs": [
        {
          "name": "stdout",
          "output_type": "stream",
          "text": [
            "5\n"
          ]
        },
        {
          "data": {
            "text/plain": [
              "5"
            ]
          },
          "execution_count": 59,
          "metadata": {},
          "output_type": "execute_result"
        }
      ],
      "source": [
        "lista_4 = [1,2,3,4,5]\n",
        "print(len(lista_4))\n",
        "lista_4[len(lista_4)-1]"
      ]
    },
    {
      "cell_type": "code",
      "execution_count": null,
      "metadata": {
        "colab": {
          "base_uri": "https://localhost:8080/"
        },
        "id": "5TNPfaW78gHe",
        "outputId": "91d252a2-7333-4bc2-f895-c7e75dad0d9b"
      },
      "outputs": [
        {
          "name": "stdout",
          "output_type": "stream",
          "text": [
            "[1, 2, 3, 4]\n"
          ]
        }
      ],
      "source": [
        "lista_4.pop()\n",
        "print(lista_4)"
      ]
    },
    {
      "cell_type": "code",
      "execution_count": null,
      "metadata": {
        "colab": {
          "base_uri": "https://localhost:8080/"
        },
        "id": "mqCr9ozv8pJW",
        "outputId": "58912726-dbc0-458a-a153-a1cdc375a92d"
      },
      "outputs": [
        {
          "name": "stdout",
          "output_type": "stream",
          "text": [
            "[1, 3, 4]\n"
          ]
        }
      ],
      "source": [
        "lista_4.remove(2)\n",
        "print(lista_4)"
      ]
    },
    {
      "cell_type": "markdown",
      "metadata": {
        "id": "uzeMhfPZqZtN"
      },
      "source": [
        "**Listas por comprensión**"
      ]
    },
    {
      "cell_type": "code",
      "execution_count": null,
      "metadata": {
        "colab": {
          "base_uri": "https://localhost:8080/"
        },
        "id": "i2HTHJhV6VZ_",
        "outputId": "2689411a-f336-4c00-d3dd-67397c8b7b75"
      },
      "outputs": [
        {
          "name": "stdout",
          "output_type": "stream",
          "text": [
            "[1.5, 2.5, 3.5, 4.5]\n"
          ]
        }
      ],
      "source": [
        "c = [x/2 for x in range(1,10,2) if x!=1]\n",
        "print(c)"
      ]
    },
    {
      "cell_type": "code",
      "execution_count": null,
      "metadata": {
        "colab": {
          "base_uri": "https://localhost:8080/"
        },
        "id": "OGXPlaZm6tWi",
        "outputId": "6573c9fd-6984-4c2e-e345-06124aa0ef14"
      },
      "outputs": [
        {
          "name": "stdout",
          "output_type": "stream",
          "text": [
            "['PPP', 'SSS', 'BBB']\n"
          ]
        }
      ],
      "source": [
        "d = [3*letra for letra in \"PSB\"]\n",
        "print(d)"
      ]
    },
    {
      "cell_type": "code",
      "execution_count": null,
      "metadata": {
        "colab": {
          "base_uri": "https://localhost:8080/",
          "height": 35
        },
        "id": "syWpdHKT6xId",
        "outputId": "4c57002a-0d2d-4bb0-d7da-e8e11515b235"
      },
      "outputs": [
        {
          "data": {
            "application/vnd.google.colaboratory.intrinsic+json": {
              "type": "string"
            },
            "text/plain": [
              "'HHH'"
            ]
          },
          "execution_count": 54,
          "metadata": {},
          "output_type": "execute_result"
        }
      ],
      "source": [
        "3*\"H\""
      ]
    },
    {
      "cell_type": "markdown",
      "metadata": {
        "id": "k_7lUVuxPZjx"
      },
      "source": [
        "### Tuplas\n",
        "\n",
        "`(0, 1, 2, ...)`"
      ]
    },
    {
      "cell_type": "markdown",
      "metadata": {
        "id": "ZtSbtKr6Pkr6"
      },
      "source": [
        "Son similares a las listas, pero son inmutables porque sus elementos no pueden cambiar una vez definidos."
      ]
    },
    {
      "cell_type": "code",
      "execution_count": null,
      "metadata": {
        "id": "NXryR1qQPx6y"
      },
      "outputs": [],
      "source": [
        "esto_es_una_tupla = (1,2,3,4,5)"
      ]
    },
    {
      "cell_type": "code",
      "execution_count": null,
      "metadata": {
        "colab": {
          "base_uri": "https://localhost:8080/"
        },
        "id": "uA9D-0vWjQz0",
        "outputId": "030380d9-6b9a-489c-f350-b6d8c5a5b40a"
      },
      "outputs": [
        {
          "data": {
            "text/plain": [
              "1"
            ]
          },
          "execution_count": 4,
          "metadata": {},
          "output_type": "execute_result"
        }
      ],
      "source": [
        "esto_es_una_tupla[0]"
      ]
    },
    {
      "cell_type": "code",
      "execution_count": null,
      "metadata": {
        "colab": {
          "base_uri": "https://localhost:8080/",
          "height": 169
        },
        "id": "Q6HbaXYf5QF4",
        "outputId": "cc8c5088-3401-4458-d5fa-4e3278138366"
      },
      "outputs": [
        {
          "ename": "TypeError",
          "evalue": "ignored",
          "output_type": "error",
          "traceback": [
            "\u001b[0;31m---------------------------------------------------------------------------\u001b[0m",
            "\u001b[0;31mTypeError\u001b[0m                                 Traceback (most recent call last)",
            "\u001b[0;32m<ipython-input-5-70dace9663c5>\u001b[0m in \u001b[0;36m<module>\u001b[0;34m\u001b[0m\n\u001b[0;32m----> 1\u001b[0;31m \u001b[0mesto_es_una_tupla\u001b[0m\u001b[0;34m[\u001b[0m\u001b[0;36m2\u001b[0m\u001b[0;34m]\u001b[0m \u001b[0;34m=\u001b[0m \u001b[0;36m6\u001b[0m\u001b[0;34m\u001b[0m\u001b[0;34m\u001b[0m\u001b[0m\n\u001b[0m",
            "\u001b[0;31mTypeError\u001b[0m: 'tuple' object does not support item assignment"
          ]
        }
      ],
      "source": [
        "esto_es_una_tupla[2] = 6"
      ]
    },
    {
      "cell_type": "markdown",
      "metadata": {
        "id": "o7PAUvoBR_1O"
      },
      "source": [
        "### Arreglos"
      ]
    },
    {
      "cell_type": "markdown",
      "metadata": {
        "id": "fFQGc5AxSLLF"
      },
      "source": [
        "Python no posee en su lenguaje una estructura que cumpla con las características de los arreglos, por ende, se utiliza a a librería de Numpy para generar los \"numpy arrays\" (vectores y matrices)."
      ]
    },
    {
      "cell_type": "code",
      "execution_count": null,
      "metadata": {
        "id": "cNeJT6-M9LWN"
      },
      "outputs": [],
      "source": [
        "lista_de_listas = [ [1,2,3] ,\n",
        "                   [4,5,6] ,\n",
        "                   [7,8,9,10,11,12] ]"
      ]
    },
    {
      "cell_type": "code",
      "execution_count": null,
      "metadata": {
        "id": "x67bdeX8R-_O"
      },
      "outputs": [],
      "source": [
        "import numpy as np\n",
        "\n",
        "a = np.array([[1,2,3],[1,2,3]])"
      ]
    },
    {
      "cell_type": "code",
      "execution_count": null,
      "metadata": {
        "colab": {
          "base_uri": "https://localhost:8080/"
        },
        "id": "fDlPmU0v9st7",
        "outputId": "16c6bba1-5794-4670-815a-f644416ceb33"
      },
      "outputs": [
        {
          "name": "stdout",
          "output_type": "stream",
          "text": [
            "[[1 2 3]\n",
            " [1 2 3]]\n"
          ]
        }
      ],
      "source": [
        "print(a)"
      ]
    },
    {
      "cell_type": "code",
      "execution_count": null,
      "metadata": {
        "colab": {
          "base_uri": "https://localhost:8080/"
        },
        "id": "x1-akYBBftf2",
        "outputId": "12faa241-42a6-4c28-e414-e266f566f5e6"
      },
      "outputs": [
        {
          "name": "stdout",
          "output_type": "stream",
          "text": [
            "[0.  0.1 0.2 0.3 0.4 0.5 0.6 0.7 0.8 0.9 1. ]\n"
          ]
        }
      ],
      "source": [
        "print(np.arange(0,1.1,0.1))"
      ]
    },
    {
      "cell_type": "code",
      "execution_count": null,
      "metadata": {
        "colab": {
          "base_uri": "https://localhost:8080/"
        },
        "id": "Q9cX5PJp-PkK",
        "outputId": "754729a2-628c-4251-ffd8-dcfce577e937"
      },
      "outputs": [
        {
          "data": {
            "text/plain": [
              "array([0.        , 0.11111111, 0.22222222, 0.33333333, 0.44444444,\n",
              "       0.55555556, 0.66666667, 0.77777778, 0.88888889, 1.        ])"
            ]
          },
          "execution_count": 11,
          "metadata": {},
          "output_type": "execute_result"
        }
      ],
      "source": [
        "np.linspace(0,1,10)"
      ]
    },
    {
      "cell_type": "code",
      "execution_count": null,
      "metadata": {
        "colab": {
          "base_uri": "https://localhost:8080/"
        },
        "id": "NiT-SL1S5iEh",
        "outputId": "d10d8195-4926-412f-9cda-c987b28c5682"
      },
      "outputs": [
        {
          "data": {
            "text/plain": [
              "array([0, 2, 4, 6, 8])"
            ]
          },
          "execution_count": 9,
          "metadata": {},
          "output_type": "execute_result"
        }
      ],
      "source": [
        "np.arange(0,10,2)"
      ]
    },
    {
      "cell_type": "code",
      "execution_count": null,
      "metadata": {
        "colab": {
          "base_uri": "https://localhost:8080/"
        },
        "id": "t64AjuS15v8b",
        "outputId": "b740c0c9-301c-4c46-af73-c5befc4b63cb"
      },
      "outputs": [
        {
          "data": {
            "text/plain": [
              "numpy.ndarray"
            ]
          },
          "execution_count": 10,
          "metadata": {},
          "output_type": "execute_result"
        }
      ],
      "source": [
        "type(a)"
      ]
    },
    {
      "cell_type": "markdown",
      "metadata": {
        "id": "fy6Q12lcYz80"
      },
      "source": [
        "### Diccionarios"
      ]
    },
    {
      "cell_type": "markdown",
      "metadata": {
        "id": "pvKEbph0ocP7"
      },
      "source": [
        "Un \"diccionario\" es una estructura de datos cuya información esta organizada igual que en un diccionario físico; cada bloque de información, es decir, cada elemento, tiene asociada una palabra. La palabra que se utiliza para encontrar el bloque de información se la suele denominar key o **clave**. Mediante la **clave** se puede acceder a dicha informacion, la cual se suele denominar **contenido**. El par **clave,contenido** suele llamarse **elemento**.\n",
        "\n",
        "Estos se crean utilizando la siguiente estructura:\n",
        "\n",
        "> x = **{**  $k_{0}$ **:** $c_{0}$**,** $k_{1}$ **:** $c_{1}$, $\\dots$**}**\n",
        ">\n",
        "> Noten el \"**:**\" que divide el *key* del *contenido*, y que se usa entre llaves: **{ }**"
      ]
    },
    {
      "cell_type": "code",
      "execution_count": null,
      "metadata": {
        "colab": {
          "base_uri": "https://localhost:8080/"
        },
        "id": "lOFXz4nIoiFU",
        "outputId": "202cd46d-5369-4215-ec52-518ef021e84f"
      },
      "outputs": [
        {
          "name": "stdout",
          "output_type": "stream",
          "text": [
            "{'nombre': 'Lionel', 'apellido': 'Messi', 'edad': 35, 'EEG': ['Fpz', 'C3', 'C4', 'F3', 'F4', 'P3', 'P4'], 'EOG': ['EOG izq', 'EOG der', 'EOG ver', 'EOG hor'], 'ECG': ['I', 'II', 'III', 'aVR', 'aVL', 'aVF']}\n"
          ]
        }
      ],
      "source": [
        "d = { \"nombre\": 'Lionel',\n",
        "      \"apellido\": 'Messi',\n",
        "      \"edad\": 35,\n",
        "      \"EEG\": ['Fpz', 'C3', 'C4', 'F3', 'F4', 'P3', 'P4'],\n",
        "      \"EOG\": ['EOG izq', 'EOG der', 'EOG ver', 'EOG hor'],\n",
        "      \"ECG\": ['I', 'II', 'III', 'aVR', 'aVL', 'aVF']}\n",
        "\n",
        "print(d)"
      ]
    },
    {
      "cell_type": "code",
      "execution_count": null,
      "metadata": {
        "colab": {
          "base_uri": "https://localhost:8080/"
        },
        "id": "_DaqBCnqphfK",
        "outputId": "948420cd-3c50-4d8c-b88e-8b791476782d"
      },
      "outputs": [
        {
          "name": "stdout",
          "output_type": "stream",
          "text": [
            "Messi\n"
          ]
        }
      ],
      "source": [
        "print(d['apellido'])"
      ]
    },
    {
      "cell_type": "code",
      "execution_count": null,
      "metadata": {
        "colab": {
          "base_uri": "https://localhost:8080/"
        },
        "id": "hjlq1NlMplQ3",
        "outputId": "54a7de0c-c833-48b6-99a9-5c1ba090c9c6"
      },
      "outputs": [
        {
          "name": "stdout",
          "output_type": "stream",
          "text": [
            "I\n"
          ]
        }
      ],
      "source": [
        "print(d['ECG'][0])"
      ]
    },
    {
      "cell_type": "code",
      "execution_count": null,
      "metadata": {
        "colab": {
          "base_uri": "https://localhost:8080/"
        },
        "id": "WkkMfUU56fXT",
        "outputId": "d542edae-6ecc-46b2-8150-eceb9457b03d"
      },
      "outputs": [
        {
          "name": "stdout",
          "output_type": "stream",
          "text": [
            "{'nombre': 'Leonardo', 'apellido': 'Messi', 'edad': 35, 'EEG': ['Fpz', 'C3', 'C4', 'F3', 'F4', 'P3', 'P4'], 'EOG': ['EOG izq', 'EOG der', 'EOG ver', 'EOG hor'], 'ECG': ['I', 'II', 'III', 'aVR', 'aVL', 'aVF']}\n"
          ]
        }
      ],
      "source": [
        "d['nombre'] = 'Leonardo'\n",
        "print(d)"
      ]
    },
    {
      "cell_type": "markdown",
      "metadata": {
        "id": "qxsPJzbuoawB"
      },
      "source": [
        "### Sets"
      ]
    },
    {
      "cell_type": "markdown",
      "metadata": {
        "id": "qzR31ClXY2Re"
      },
      "source": [
        "Un **set** es una estructura de datos más avanzada que las anteriores, la cual nos permite almacenar un grupo de elementos cuyo orden no es relevante. Lo único que tiene importancia cuando utilizamos un **set** es qué elemento está y qué elemento no.\n",
        "\n",
        "Un **set** no admite repetidos, ya que por su funcionamiento interno no tiene la capacidad de determinar cuando un elemento se encuentra más de una vez, tan solo puede saber qué elementos están y qué elementos no.\n",
        "A primera vista parecería entonces que un **set** es muy limitado, ya que no está ordenado y no acepta repetidos, no obstante este es muy práctico para algunos tipos de operaciones, las cuales serían muy tediosas de  programar en listas o diccionarios.\n",
        "\n",
        "Para crear un **set** se utilizan llaves **{ }** y se colocan elementos separados por comas, su sintaxis es similar al de las listas."
      ]
    },
    {
      "cell_type": "code",
      "execution_count": null,
      "metadata": {
        "colab": {
          "base_uri": "https://localhost:8080/"
        },
        "id": "m_rIC0m7-7UV",
        "outputId": "09942b56-8df0-430b-e299-df5bccbbc846"
      },
      "outputs": [
        {
          "name": "stdout",
          "output_type": "stream",
          "text": [
            "{1, 2, 4, 6, 8}\n"
          ]
        }
      ],
      "source": [
        "# Set\n",
        "s = {1,2,8,4,6,2,4,4}\n",
        "print(s)"
      ]
    },
    {
      "cell_type": "markdown",
      "metadata": {
        "id": "p8YafGfRpvSr"
      },
      "source": [
        "\n",
        "\n",
        "> Para más información sobre todas las estructuras recomendamos profundizar en la web y en páginas/blogs/documentación recomendada.\n",
        "\n"
      ]
    },
    {
      "cell_type": "markdown",
      "metadata": {
        "id": "HHT5iwkI9z74"
      },
      "source": [
        "## Manejo de Excepciones"
      ]
    },
    {
      "cell_type": "markdown",
      "metadata": {
        "id": "s4jhCdry-vf5"
      },
      "source": [
        "Una excepción es la indicación de un problema ocurrido durante la\n",
        "ejecución de un programa. Dado que es importante que los programas se ejecuten en forma normal, la \"excepción\" es que ocurra algún problema.\n",
        "\n",
        "Históricamente parte del código del programa se dedicaba a contemplar posibles situaciones de error con simples bloques de código `if`."
      ]
    },
    {
      "cell_type": "code",
      "execution_count": null,
      "metadata": {
        "colab": {
          "base_uri": "https://localhost:8080/",
          "height": 166
        },
        "id": "ZI7XxmjOvaIe",
        "outputId": "28eb6aba-640f-4ec4-b88a-7db59cb71f6b"
      },
      "outputs": [
        {
          "ename": "ZeroDivisionError",
          "evalue": "ignored",
          "output_type": "error",
          "traceback": [
            "\u001b[0;31m---------------------------------------------------------------------------\u001b[0m",
            "\u001b[0;31mZeroDivisionError\u001b[0m                         Traceback (most recent call last)",
            "\u001b[0;32m<ipython-input-79-5be670730087>\u001b[0m in \u001b[0;36m<module>\u001b[0;34m()\u001b[0m\n\u001b[0;32m----> 1\u001b[0;31m \u001b[0;36m11\u001b[0m\u001b[0;34m/\u001b[0m\u001b[0;36m0\u001b[0m\u001b[0;34m\u001b[0m\u001b[0;34m\u001b[0m\u001b[0m\n\u001b[0m",
            "\u001b[0;31mZeroDivisionError\u001b[0m: division by zero"
          ]
        }
      ],
      "source": [
        "11/0"
      ]
    },
    {
      "cell_type": "code",
      "execution_count": null,
      "metadata": {
        "colab": {
          "base_uri": "https://localhost:8080/"
        },
        "id": "it6awkKF_EVS",
        "outputId": "436708e2-e1fd-49af-92ee-efd66eff7e01"
      },
      "outputs": [
        {
          "name": "stdout",
          "output_type": "stream",
          "text": [
            "Ingrese un número entero: 1\n",
            "Ingrese otro número entero: 0\n",
            "No se puede dividir por cero\n"
          ]
        }
      ],
      "source": [
        "num1  = int(input('Ingrese un número entero: '))\n",
        "num2  = int(input('Ingrese otro número entero: '))\n",
        "if num2 != 0:\n",
        "  resultado =  num1 / num2\n",
        "  print(resultado)\n",
        "else:\n",
        "  print(\"No se puede dividir por cero\")"
      ]
    },
    {
      "cell_type": "markdown",
      "metadata": {
        "id": "m9x0lqmf_anX"
      },
      "source": [
        "Con el manejo de excepciones es posible independizar la lógica del\n",
        "programa del código de control de errores, es decir que evita tener\n",
        "que mezclarlos. De este modo las aplicaciones son más robustas y veloces."
      ]
    },
    {
      "cell_type": "markdown",
      "metadata": {
        "id": "VujPECYv_gdT"
      },
      "source": [
        "El control de errores tradicional es preventivo: Evita que el error\n",
        "ocurra.\n",
        "\n",
        "El control de errores mediante excepciones es correctivo: Intenta solucionar el problema después de haber ocurrido.\n",
        "\n",
        "Cada error genera un tipo de excepción distinto, que puede ser capturado o\n",
        "atrapado por el programador:\n",
        "\n",
        "* División por cero\n",
        "* Uso de variables no inicializadas\n",
        "* Subíndices fuera de rango\n",
        "* Tratar de convertir a entero o a float un valor no numérico"
      ]
    },
    {
      "cell_type": "code",
      "execution_count": null,
      "metadata": {
        "colab": {
          "base_uri": "https://localhost:8080/",
          "height": 166
        },
        "id": "1uLpZVGs_u8_",
        "outputId": "51a364a7-0d64-42c5-c535-83d58848fe6e"
      },
      "outputs": [
        {
          "ename": "ZeroDivisionError",
          "evalue": "ignored",
          "output_type": "error",
          "traceback": [
            "\u001b[0;31m---------------------------------------------------------------------------\u001b[0m",
            "\u001b[0;31mZeroDivisionError\u001b[0m                         Traceback (most recent call last)",
            "\u001b[0;32m<ipython-input-81-2fc232d1511a>\u001b[0m in \u001b[0;36m<module>\u001b[0;34m()\u001b[0m\n\u001b[0;32m----> 1\u001b[0;31m \u001b[0mprint\u001b[0m\u001b[0;34m(\u001b[0m\u001b[0;36m1\u001b[0m\u001b[0;34m/\u001b[0m\u001b[0;36m0\u001b[0m\u001b[0;34m)\u001b[0m\u001b[0;34m\u001b[0m\u001b[0;34m\u001b[0m\u001b[0m\n\u001b[0m",
            "\u001b[0;31mZeroDivisionError\u001b[0m: division by zero"
          ]
        }
      ],
      "source": [
        "print(1/0) #división por cero"
      ]
    },
    {
      "cell_type": "code",
      "execution_count": null,
      "metadata": {
        "colab": {
          "base_uri": "https://localhost:8080/",
          "height": 166
        },
        "id": "BGi8So1d_w18",
        "outputId": "e7ac1520-90a3-47c1-a1e8-99b01f1b3791"
      },
      "outputs": [
        {
          "ename": "NameError",
          "evalue": "ignored",
          "output_type": "error",
          "traceback": [
            "\u001b[0;31m---------------------------------------------------------------------------\u001b[0m",
            "\u001b[0;31mNameError\u001b[0m                                 Traceback (most recent call last)",
            "\u001b[0;32m<ipython-input-82-e6d41bf1de52>\u001b[0m in \u001b[0;36m<module>\u001b[0;34m()\u001b[0m\n\u001b[0;32m----> 1\u001b[0;31m \u001b[0mprint\u001b[0m\u001b[0;34m(\u001b[0m\u001b[0mpepe\u001b[0m\u001b[0;34m)\u001b[0m\u001b[0;34m\u001b[0m\u001b[0;34m\u001b[0m\u001b[0m\n\u001b[0m",
            "\u001b[0;31mNameError\u001b[0m: name 'pepe' is not defined"
          ]
        }
      ],
      "source": [
        "print(pepe) #variable no definida"
      ]
    },
    {
      "cell_type": "code",
      "execution_count": null,
      "metadata": {
        "colab": {
          "base_uri": "https://localhost:8080/",
          "height": 183
        },
        "id": "WkYIT4mv_ywv",
        "outputId": "3cc81921-e3ef-415e-ac0d-acab877f1612"
      },
      "outputs": [
        {
          "ename": "IndexError",
          "evalue": "ignored",
          "output_type": "error",
          "traceback": [
            "\u001b[0;31m---------------------------------------------------------------------------\u001b[0m",
            "\u001b[0;31mIndexError\u001b[0m                                Traceback (most recent call last)",
            "\u001b[0;32m<ipython-input-83-23c134495f47>\u001b[0m in \u001b[0;36m<module>\u001b[0;34m()\u001b[0m\n\u001b[1;32m      1\u001b[0m \u001b[0ma\u001b[0m \u001b[0;34m=\u001b[0m \u001b[0;34m[\u001b[0m\u001b[0;36m0\u001b[0m\u001b[0;34m,\u001b[0m\u001b[0;36m2\u001b[0m\u001b[0;34m,\u001b[0m\u001b[0;36m4\u001b[0m\u001b[0;34m,\u001b[0m\u001b[0;36m6\u001b[0m\u001b[0;34m]\u001b[0m\u001b[0;34m\u001b[0m\u001b[0;34m\u001b[0m\u001b[0m\n\u001b[0;32m----> 2\u001b[0;31m \u001b[0mprint\u001b[0m\u001b[0;34m(\u001b[0m\u001b[0ma\u001b[0m\u001b[0;34m[\u001b[0m\u001b[0;36m4\u001b[0m\u001b[0;34m]\u001b[0m\u001b[0;34m)\u001b[0m\u001b[0;34m\u001b[0m\u001b[0;34m\u001b[0m\u001b[0m\n\u001b[0m",
            "\u001b[0;31mIndexError\u001b[0m: list index out of range"
          ]
        }
      ],
      "source": [
        "a = [0,2,4,6] #índice fuera de rango\n",
        "print(a[4])"
      ]
    },
    {
      "cell_type": "code",
      "execution_count": null,
      "metadata": {
        "colab": {
          "base_uri": "https://localhost:8080/",
          "height": 166
        },
        "id": "Y2Qi62jJ_55c",
        "outputId": "85ec576c-a33a-4bbb-b81d-0174b318ee9e"
      },
      "outputs": [
        {
          "ename": "ValueError",
          "evalue": "ignored",
          "output_type": "error",
          "traceback": [
            "\u001b[0;31m---------------------------------------------------------------------------\u001b[0m",
            "\u001b[0;31mValueError\u001b[0m                                Traceback (most recent call last)",
            "\u001b[0;32m<ipython-input-84-3e58bd585213>\u001b[0m in \u001b[0;36m<module>\u001b[0;34m()\u001b[0m\n\u001b[0;32m----> 1\u001b[0;31m \u001b[0mint\u001b[0m\u001b[0;34m(\u001b[0m\u001b[0;34m'Hola'\u001b[0m\u001b[0;34m)\u001b[0m\u001b[0;34m\u001b[0m\u001b[0;34m\u001b[0m\u001b[0m\n\u001b[0m",
            "\u001b[0;31mValueError\u001b[0m: invalid literal for int() with base 10: 'Hola'"
          ]
        }
      ],
      "source": [
        "int('Hola') #tipo de dato incorrecto"
      ]
    },
    {
      "cell_type": "markdown",
      "metadata": {
        "id": "oh6sEp5f__-V"
      },
      "source": [
        "Para capturar excepciones se utilizan los bloques `try`/`except`. El código ubicado entre `try` y `except` se denomina bloque protegido.\n",
        "\n",
        "\n",
        "\n",
        "```\n",
        "try:\n",
        "  <código que puede provocar errores>\n",
        "except <excepción>:\n",
        "  <código de tratamiento del error>\n",
        "```\n",
        "\n"
      ]
    },
    {
      "cell_type": "markdown",
      "metadata": {
        "id": "_dRirn70AKKM"
      },
      "source": [
        "Por ejemplo, si quisiesemos impedir que un programa falle por la división por cero:"
      ]
    },
    {
      "cell_type": "code",
      "execution_count": null,
      "metadata": {
        "colab": {
          "base_uri": "https://localhost:8080/",
          "height": 253
        },
        "id": "3679jl4-AQ8-",
        "outputId": "8b454cef-aa1a-4d50-d8ff-fd70f85c4895"
      },
      "outputs": [
        {
          "name": "stdout",
          "output_type": "stream",
          "text": [
            "Ingrese un número entero: a\n"
          ]
        },
        {
          "ename": "ValueError",
          "evalue": "ignored",
          "output_type": "error",
          "traceback": [
            "\u001b[0;31m---------------------------------------------------------------------------\u001b[0m",
            "\u001b[0;31mValueError\u001b[0m                                Traceback (most recent call last)",
            "\u001b[0;32m<ipython-input-87-9aa63aa098f9>\u001b[0m in \u001b[0;36m<module>\u001b[0;34m()\u001b[0m\n\u001b[1;32m      1\u001b[0m \u001b[0;32mtry\u001b[0m\u001b[0;34m:\u001b[0m\u001b[0;34m\u001b[0m\u001b[0;34m\u001b[0m\u001b[0m\n\u001b[0;32m----> 2\u001b[0;31m   \u001b[0mnum1\u001b[0m  \u001b[0;34m=\u001b[0m \u001b[0mint\u001b[0m\u001b[0;34m(\u001b[0m\u001b[0minput\u001b[0m\u001b[0;34m(\u001b[0m\u001b[0;34m'Ingrese un número entero: '\u001b[0m\u001b[0;34m)\u001b[0m\u001b[0;34m)\u001b[0m\u001b[0;34m\u001b[0m\u001b[0;34m\u001b[0m\u001b[0m\n\u001b[0m\u001b[1;32m      3\u001b[0m   \u001b[0mnum2\u001b[0m  \u001b[0;34m=\u001b[0m \u001b[0mint\u001b[0m\u001b[0;34m(\u001b[0m\u001b[0minput\u001b[0m\u001b[0;34m(\u001b[0m\u001b[0;34m'Ingrese otro número entero: '\u001b[0m\u001b[0;34m)\u001b[0m\u001b[0;34m)\u001b[0m\u001b[0;34m\u001b[0m\u001b[0;34m\u001b[0m\u001b[0m\n\u001b[1;32m      4\u001b[0m   \u001b[0mprint\u001b[0m\u001b[0;34m(\u001b[0m\u001b[0;34m\"Resultado: \"\u001b[0m\u001b[0;34m,\u001b[0m \u001b[0mnum1\u001b[0m\u001b[0;34m/\u001b[0m\u001b[0mnum2\u001b[0m\u001b[0;34m)\u001b[0m\u001b[0;34m\u001b[0m\u001b[0;34m\u001b[0m\u001b[0m\n\u001b[1;32m      5\u001b[0m \u001b[0;32mexcept\u001b[0m \u001b[0mZeroDivisionError\u001b[0m\u001b[0;34m:\u001b[0m\u001b[0;34m\u001b[0m\u001b[0;34m\u001b[0m\u001b[0m\n",
            "\u001b[0;31mValueError\u001b[0m: invalid literal for int() with base 10: 'a'"
          ]
        }
      ],
      "source": [
        "try:\n",
        "  num1  = int(input('Ingrese un número entero: '))\n",
        "  num2  = int(input('Ingrese otro número entero: '))\n",
        "  print(\"Resultado: \", num1/num2)\n",
        "except ZeroDivisionError:\n",
        "  print(\"El segundo número no puede ser cero porque matemáticamente no se puede dividir por cero.\")\n",
        "\n",
        "\n",
        "print('Todo ok')"
      ]
    },
    {
      "cell_type": "markdown",
      "metadata": {
        "id": "nUrNKUlhAhMO"
      },
      "source": [
        "Primero se ejecuta el bloque protegido, es decir el código ubicado entre `try` y\n",
        "`except` que delimita la zona en la que pueden llegar a ocurrir los errores.\n",
        "\n",
        "Si no ocurren errores el bloque except se saltea y la ejecución continúa luego de este bloque except.\n",
        "\n",
        "Si ocurre un error durante la ejecución del bloque protegido, el resto de este\n",
        "bloque se omite.\n",
        "\n",
        "Si el tipo de error coincide con la excepción detallada en el `except` se ejecuta este bloque, que es donde se remediará el problema. Luego el programa continúa normalmente."
      ]
    },
    {
      "cell_type": "markdown",
      "metadata": {
        "id": "diy-jv3sBBXr"
      },
      "source": [
        "Si ocurre un error que no coincide con la excepción detallada en el `except`, ésta se traslada a otros bloques `try`/`except` exteriores.\n",
        "\n",
        "Si no se encuentra nada que la maneje, será considerada como una excepción no\n",
        "manejada y el programa se detendrá con el mensaje de error correspondiente."
      ]
    },
    {
      "cell_type": "markdown",
      "metadata": {
        "id": "_LbVgqyQBKgi"
      },
      "source": [
        "Pueden escribirse varios bloques `except` para manejar distintos tipos de excepciones, los que serán analizados en el orden en que se encuentran.\n",
        "\n",
        "Cada tipo de excepción debe ser manejado por un único bloque except.\n",
        "No puede haber más de uno para la misma excepción."
      ]
    },
    {
      "cell_type": "markdown",
      "metadata": {
        "id": "0FnIzlNnRlwJ"
      },
      "source": [
        "Un `except` sin tipo de excepción capturará cualquier error que pudiera\n",
        "producirse. No se recomienda hacerlo porque no permite diferenciar los errores.\n",
        "\n",
        "Se admite escribirlo debajo de otros `except`, como medida de último recurso."
      ]
    },
    {
      "cell_type": "code",
      "execution_count": null,
      "metadata": {
        "id": "axI-VxHNRx0N"
      },
      "outputs": [],
      "source": [
        "try:\n",
        "  num1  = int(input('Ingrese un número entero: '))\n",
        "  num2  = int(input('Ingrese otro número entero: '))\n",
        "  print(\"Resultado: \", num1/num2)\n",
        "except ZeroDivisionError:\n",
        "  print(\"El segundo número no puede ser cero porque matemáticamente no se puede dividir por cero.\")\n",
        "except ValueError:\n",
        "  print('Ingrese únicamente números enteros')\n",
        "except:\n",
        "  print('Error desconocido. Intente más tarde.')"
      ]
    },
    {
      "cell_type": "markdown",
      "metadata": {
        "id": "iCaK_7wHSBNI"
      },
      "source": [
        "**IMPORTANTE: Los errores de sintaxis no pueden ser atrapados mediante\n",
        "excepciones, porque la sintaxis es verificada durante el análisis sintáctico del programa y no durante la ejecución.**"
      ]
    },
    {
      "cell_type": "markdown",
      "metadata": {
        "id": "QfvWJDdnSVay"
      },
      "source": [
        "Una función muy útil que tiene el manejo de excepciones es para continuar normalmente la ejecución de una función luego de producido un error:"
      ]
    },
    {
      "cell_type": "code",
      "execution_count": null,
      "metadata": {
        "colab": {
          "base_uri": "https://localhost:8080/"
        },
        "id": "s1QwOcCXSc7g",
        "outputId": "380556f2-74ee-44ef-95d0-acf193fbfdc0"
      },
      "outputs": [
        {
          "name": "stdout",
          "output_type": "stream",
          "text": [
            "Ingrese un número: hola\n",
            "Dato inválido.\n",
            "Intente nuevamente.\n",
            "Ingrese un número: 8\n"
          ]
        }
      ],
      "source": [
        "while True:\n",
        "  try:\n",
        "    n = int(input('Ingrese un número: '))\n",
        "    break\n",
        "  except ValueError:\n",
        "    print(\"Dato inválido.\")\n",
        "    print(\"Intente nuevamente.\")"
      ]
    },
    {
      "cell_type": "markdown",
      "metadata": {
        "id": "DHOTuBp3SyTb"
      },
      "source": [
        "Otra utilidad puede ser el manejo de un programa mediante la interrupción del mismo (Ctrl + C):"
      ]
    },
    {
      "cell_type": "code",
      "execution_count": null,
      "metadata": {
        "id": "b66yuxnwS6JR"
      },
      "outputs": [],
      "source": [
        "contador = 1\n",
        "while True:\n",
        "  try:\n",
        "    print(contador)\n",
        "    contador = contador + 1\n",
        "  except KeyboardInterrupt:\n",
        "    rta = input('¿Desea interrumpir el programa? (y/n) ')\n",
        "    if rta == 'y':\n",
        "      break\n",
        "    elif rta == 'n':\n",
        "      pass"
      ]
    },
    {
      "cell_type": "markdown",
      "metadata": {
        "id": "dPhCcS-wTWhD"
      },
      "source": [
        "### else"
      ]
    },
    {
      "cell_type": "markdown",
      "metadata": {
        "id": "xMlfFhJDTfoo"
      },
      "source": [
        "Esta cláusula es opcional en un bloque `try`/`except`.\n",
        "\n",
        "Debe escribirse después de todos los `except`.\n",
        "\n",
        "Sólo será ejecutada cuando el bloque `try` precedente haya finalizado en forma\n",
        "normal, es decir sin haberse producido excepciones."
      ]
    },
    {
      "cell_type": "markdown",
      "metadata": {
        "id": "MSUbHYaVTl-A"
      },
      "source": [
        "### finally"
      ]
    },
    {
      "cell_type": "markdown",
      "metadata": {
        "id": "i6LFIRhBTrZs"
      },
      "source": [
        "La cláusula `finally` es opcional, y se escribe luego de un bloque `try` o de\n",
        "un bloque `except`.\n",
        "\n",
        "Su propósito es garantizar que una porción de código se ejecute siempre, sin importar si hubo errores o no."
      ]
    },
    {
      "cell_type": "markdown",
      "metadata": {
        "id": "NCRDVTrSHznf"
      },
      "source": [
        "## f-Strings"
      ]
    },
    {
      "cell_type": "markdown",
      "metadata": {
        "id": "m6OkvuhJrjPW"
      },
      "source": [
        "Los f-strings (también conocidos como \"formatted string literals\" o \"cadenas de formato\") son una forma de formatear cadenas de texto en Python 3.6 y versiones posteriores.\n",
        "\n",
        "Los f-strings se crean colocando una letra \"f\" antes de la cadena de texto y luego encerrando cualquier expresión a ser interpolada entre llaves {} dentro de la cadena. Por ejemplo:"
      ]
    },
    {
      "cell_type": "code",
      "execution_count": null,
      "metadata": {
        "colab": {
          "base_uri": "https://localhost:8080/"
        },
        "id": "HzDXjyd1H1Ho",
        "outputId": "5671f4bf-be30-4551-fc21-d80c82d547b4"
      },
      "outputs": [
        {
          "name": "stdout",
          "output_type": "stream",
          "text": [
            "Lionel Messi is 25 years old\n",
            "Lionel Messi is 25 years old.\n"
          ]
        }
      ],
      "source": [
        "name = \"Lionel Messi\"\n",
        "age = 25\n",
        "print(name, 'is', age, 'years old')\n",
        "print(f\"{name} is {age} years old.\")"
      ]
    },
    {
      "cell_type": "markdown",
      "metadata": {
        "id": "FvRh7ORUsL6s"
      },
      "source": [
        "Los f-strings también pueden contener expresiones aritméticas, llamadas a funciones y cualquier otra expresión válida en Python. Por ejemplo:"
      ]
    },
    {
      "cell_type": "code",
      "execution_count": null,
      "metadata": {
        "colab": {
          "base_uri": "https://localhost:8080/"
        },
        "id": "9gYrga3WsMO6",
        "outputId": "54113d97-cd17-4270-e0d9-f81b038f3c90"
      },
      "outputs": [
        {
          "name": "stdout",
          "output_type": "stream",
          "text": [
            "Argentina tiene 3 Copas del Mundo.\n"
          ]
        }
      ],
      "source": [
        "print(f\"Argentina tiene {2+1} Copas del Mundo.\")"
      ]
    },
    {
      "cell_type": "markdown",
      "metadata": {
        "id": "6QU92HxMsZqd"
      },
      "source": [
        "Los f-strings son una forma conveniente y legible de formatear cadenas de texto en Python, especialmente cuando se trabaja con valores de variables complejos o expresiones complicadas. Son una herramienta muy útil que pueden utilizar a lo largo de los scripts que creen en la cursada."
      ]
    },
    {
      "cell_type": "markdown",
      "metadata": {
        "id": "QpMgHNhlqHWx"
      },
      "source": [
        "## Importar archivos + Drive"
      ]
    },
    {
      "cell_type": "markdown",
      "metadata": {
        "id": "VL4aPy_tqL5n"
      },
      "source": [
        "Como nos vamos a manejar principalmente por Drive, les vamos a enseñar cómo importar archivos desde una ubicación específica de su drive.\n",
        "\n",
        "Lo primero que deben realizar es ejecutar las siguientes líneas de código para montar su Drive y tener acceso a él:"
      ]
    },
    {
      "cell_type": "code",
      "execution_count": null,
      "metadata": {
        "colab": {
          "base_uri": "https://localhost:8080/"
        },
        "id": "um706WKaABYK",
        "outputId": "3cfc93cd-af10-4545-fe75-c9a59dcb105d"
      },
      "outputs": [
        {
          "name": "stdout",
          "output_type": "stream",
          "text": [
            "Mounted at /content/drive\n"
          ]
        }
      ],
      "source": [
        "# IMPORTANTE: Esto solo sirve para Colab!\n",
        "from google.colab import drive\n",
        "drive.mount('/content/drive')"
      ]
    },
    {
      "cell_type": "code",
      "execution_count": null,
      "metadata": {
        "id": "RdVYqgQa8PpA"
      },
      "outputs": [],
      "source": [
        "# /content/drive/MyDrive/Física 4 - LAB/TP1 - Millikan/TP1-Millikan-F4.gdoc"
      ]
    },
    {
      "cell_type": "markdown",
      "metadata": {
        "id": "fxCxyQOmqcdA"
      },
      "source": [
        "Les va a arrojar un link al que deben acceder para poder acceder al \"authorization code\" de su Drive. Copien ese código y peguenlo en el espacio que les indica. Luego puede tardar unos minutos en montar el Drive y ya están listos para acceder a cualquier ubicación de su Drive.\n",
        "\n",
        "En el menú de su izquierda, pueden recorrer los archivos en su drive y clickeando los 3 puntos que aparecen en el extremo derecho del archivo, les da la opción de copiar la ruta. Esto último es muy útil porque es necesario saber la ruta para poder importar ese archivo a este documento de Colab.\n",
        "\n"
      ]
    },
    {
      "cell_type": "markdown",
      "metadata": {
        "id": "Nfc8PjQej4c4"
      },
      "source": [
        "## Últimas aclaraciones"
      ]
    },
    {
      "cell_type": "markdown",
      "metadata": {
        "id": "_HzTTogfj7yl"
      },
      "source": [
        "Python, como se mencionó anteriormente, es un lenguaje muy amplio y la cantidad de librerías y módulos existentes es casi ilimitado.\n",
        "\n",
        "En esta materia vamos a centrarnos en un módulo específico de [scipy](https://www.scipy.org/) que es específico para procesamiento de señales. La documentación la pueden encontrar en este [link](https://docs.scipy.org/doc/scipy/reference/signal.html). Les recomendamos que lo lean, vean la cantidad de funciones a las que pueden acceder y se familiaricen con ellas.\n",
        "\n",
        "Otra fuente importante durante toda la cursada es la documentación de las librerías a utilizar.\n",
        "\n",
        "Por otro lado, el mayor aliado para los programadores es el buscador de [Google](https://www.google.com/). Cuando deseen realizar algo y no saben por dónde empezar, pueden realizar una búsqueda con palabras claves (python, nombre de la librería, función, etc) y seguramente les aparezca información detallada de cómo realizarlo en distintos blogs y páginas confiables. Es probable que les aparezcan los resultados en páginas como [Stack Overflow](https://stackoverflow.com/) o [GitHub](https://github.com/), las cuales son confiables.\n",
        "\n",
        "Por útlimo, los 3 docentes de la materia también podemos ayudarlos a resolver lo que deseen así que estamos dispuestos a responder las dudas que tengan. Les recordamos nuestros nombres y nuestros mails:\n",
        "\n",
        "*   Roberto Sebastián Tomás (rtomas@itba.edu.ar)\n",
        "*   Aylin Vazquez Chenlo (ayvazquez@itba.edu.ar)\n",
        "*   Francisco Tassara (ftassara@itba.edu.ar)\n",
        "\n",
        "\n",
        "<img width=\"250\" height=\"230\" src=\"https://media.giphy.com/media/KHVnSBMiO5o4hJ3PlQ/giphy.gif\">"
      ]
    }
  ],
  "metadata": {
    "colab": {
      "provenance": [],
      "toc_visible": true
    },
    "kernelspec": {
      "display_name": "Python 3",
      "name": "python3"
    }
  },
  "nbformat": 4,
  "nbformat_minor": 0
}
